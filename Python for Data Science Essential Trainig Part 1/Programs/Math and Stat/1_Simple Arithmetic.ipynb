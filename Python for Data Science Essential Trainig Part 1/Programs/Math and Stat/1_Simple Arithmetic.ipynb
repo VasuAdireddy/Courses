{
 "cells": [
  {
   "cell_type": "code",
   "execution_count": 1,
   "id": "e7df8af4",
   "metadata": {},
   "outputs": [],
   "source": [
    "import numpy as np"
   ]
  },
  {
   "cell_type": "code",
   "execution_count": 11,
   "id": "79313c31",
   "metadata": {},
   "outputs": [],
   "source": [
    "np.set_printoptions(precision=2) #sets float precision to 2 decimals"
   ]
  },
  {
   "cell_type": "code",
   "execution_count": null,
   "id": "adf71755",
   "metadata": {},
   "outputs": [],
   "source": []
  },
  {
   "cell_type": "code",
   "execution_count": 12,
   "id": "8e6e674a",
   "metadata": {},
   "outputs": [
    {
     "data": {
      "text/plain": [
       "array([  8.218,  36.968, -30.225, -21.283, -34.448,  -8.004])"
      ]
     },
     "execution_count": 12,
     "metadata": {},
     "output_type": "execute_result"
    }
   ],
   "source": [
    "np.random.seed(25)\n",
    "c=36*np.random.randn(6)\n",
    "c"
   ]
  },
  {
   "cell_type": "code",
   "execution_count": null,
   "id": "8cb406a3",
   "metadata": {},
   "outputs": [],
   "source": []
  },
  {
   "cell_type": "code",
   "execution_count": null,
   "id": "fdcf2315",
   "metadata": {},
   "outputs": [],
   "source": []
  },
  {
   "cell_type": "code",
   "execution_count": null,
   "id": "c2dadb56",
   "metadata": {},
   "outputs": [],
   "source": []
  }
 ],
 "metadata": {
  "kernelspec": {
   "display_name": "Python 3 (ipykernel)",
   "language": "python",
   "name": "python3"
  },
  "language_info": {
   "codemirror_mode": {
    "name": "ipython",
    "version": 3
   },
   "file_extension": ".py",
   "mimetype": "text/x-python",
   "name": "python",
   "nbconvert_exporter": "python",
   "pygments_lexer": "ipython3",
   "version": "3.9.13"
  }
 },
 "nbformat": 4,
 "nbformat_minor": 5
}
