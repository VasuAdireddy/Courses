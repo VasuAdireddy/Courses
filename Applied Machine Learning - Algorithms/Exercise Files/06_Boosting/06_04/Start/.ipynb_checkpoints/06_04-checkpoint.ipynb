{
 "cells": [
  {
   "cell_type": "markdown",
   "metadata": {},
   "source": [
    "## Boosting: Fit and evaluate a model\n",
    "\n",
    "Using the Titanic dataset from [this](https://www.kaggle.com/c/titanic/overview) Kaggle competition.\n",
    "\n",
    "In this section, we will fit and evaluate a simple Gradient Boosting model."
   ]
  },
  {
   "cell_type": "markdown",
   "metadata": {},
   "source": [
    "### Read in Data"
   ]
  },
  {
   "cell_type": "code",
   "execution_count": 4,
   "metadata": {},
   "outputs": [],
   "source": [
    "import joblib\n",
    "import pandas as pd\n",
    "from sklearn.ensemble import GradientBoostingClassifier\n",
    "from sklearn.model_selection import GridSearchCV\n",
    "import warnings\n",
    "warnings.filterwarnings('ignore', category=FutureWarning)\n",
    "warnings.filterwarnings('ignore', category=DeprecationWarning)\n",
    "\n",
    "tr_features = pd.read_csv('../../../train_features.csv')\n",
    "tr_labels = pd.read_csv('../../../train_labels.csv', header=None)"
   ]
  },
  {
   "cell_type": "markdown",
   "metadata": {},
   "source": [
    "### Hyperparameter tuning\n",
    "\n",
    "![GB](../../img/gb.png)"
   ]
  },
  {
   "cell_type": "code",
   "execution_count": 5,
   "metadata": {},
   "outputs": [],
   "source": [
    "def print_results(results):\n",
    "    print('BEST PARAMS: {}\\n'.format(results.best_params_))\n",
    "\n",
    "    means = results.cv_results_['mean_test_score']\n",
    "    stds = results.cv_results_['std_test_score']\n",
    "    for mean, std, params in zip(means, stds, results.cv_results_['params']):\n",
    "        print('{} (+/-{}) for {}'.format(round(mean, 3), round(std * 2, 3), params))"
   ]
  },
  {
   "cell_type": "code",
   "execution_count": 6,
   "metadata": {},
   "outputs": [
    {
     "name": "stdout",
     "output_type": "stream",
     "text": [
      "BEST PARAMS: {'learning_rate': 0.01, 'max_depth': 3, 'n_estimators': 500}\n",
      "\n",
      "0.624 (+/-0.007) for {'learning_rate': 0.01, 'max_depth': 1, 'n_estimators': 5}\n",
      "0.624 (+/-0.007) for {'learning_rate': 0.01, 'max_depth': 1, 'n_estimators': 25}\n",
      "0.796 (+/-0.115) for {'learning_rate': 0.01, 'max_depth': 1, 'n_estimators': 50}\n",
      "0.796 (+/-0.115) for {'learning_rate': 0.01, 'max_depth': 1, 'n_estimators': 250}\n",
      "0.811 (+/-0.117) for {'learning_rate': 0.01, 'max_depth': 1, 'n_estimators': 500}\n",
      "0.624 (+/-0.007) for {'learning_rate': 0.01, 'max_depth': 3, 'n_estimators': 5}\n",
      "0.811 (+/-0.069) for {'learning_rate': 0.01, 'max_depth': 3, 'n_estimators': 25}\n",
      "0.811 (+/-0.069) for {'learning_rate': 0.01, 'max_depth': 3, 'n_estimators': 50}\n",
      "0.83 (+/-0.074) for {'learning_rate': 0.01, 'max_depth': 3, 'n_estimators': 250}\n",
      "0.841 (+/-0.077) for {'learning_rate': 0.01, 'max_depth': 3, 'n_estimators': 500}\n",
      "0.624 (+/-0.007) for {'learning_rate': 0.01, 'max_depth': 5, 'n_estimators': 5}\n",
      "0.809 (+/-0.065) for {'learning_rate': 0.01, 'max_depth': 5, 'n_estimators': 25}\n",
      "0.82 (+/-0.051) for {'learning_rate': 0.01, 'max_depth': 5, 'n_estimators': 50}\n",
      "0.818 (+/-0.043) for {'learning_rate': 0.01, 'max_depth': 5, 'n_estimators': 250}\n",
      "0.822 (+/-0.037) for {'learning_rate': 0.01, 'max_depth': 5, 'n_estimators': 500}\n",
      "0.624 (+/-0.007) for {'learning_rate': 0.01, 'max_depth': 7, 'n_estimators': 5}\n",
      "0.809 (+/-0.034) for {'learning_rate': 0.01, 'max_depth': 7, 'n_estimators': 25}\n",
      "0.818 (+/-0.053) for {'learning_rate': 0.01, 'max_depth': 7, 'n_estimators': 50}\n",
      "0.82 (+/-0.043) for {'learning_rate': 0.01, 'max_depth': 7, 'n_estimators': 250}\n",
      "0.798 (+/-0.035) for {'learning_rate': 0.01, 'max_depth': 7, 'n_estimators': 500}\n",
      "0.624 (+/-0.007) for {'learning_rate': 0.01, 'max_depth': 9, 'n_estimators': 5}\n",
      "0.802 (+/-0.058) for {'learning_rate': 0.01, 'max_depth': 9, 'n_estimators': 25}\n",
      "0.803 (+/-0.059) for {'learning_rate': 0.01, 'max_depth': 9, 'n_estimators': 50}\n",
      "0.802 (+/-0.043) for {'learning_rate': 0.01, 'max_depth': 9, 'n_estimators': 250}\n",
      "0.788 (+/-0.049) for {'learning_rate': 0.01, 'max_depth': 9, 'n_estimators': 500}\n",
      "0.624 (+/-0.007) for {'learning_rate': 0.01, 'max_depth': 11, 'n_estimators': 5}\n",
      "0.794 (+/-0.056) for {'learning_rate': 0.01, 'max_depth': 11, 'n_estimators': 25}\n",
      "0.79 (+/-0.064) for {'learning_rate': 0.01, 'max_depth': 11, 'n_estimators': 50}\n",
      "0.794 (+/-0.048) for {'learning_rate': 0.01, 'max_depth': 11, 'n_estimators': 250}\n",
      "0.79 (+/-0.048) for {'learning_rate': 0.01, 'max_depth': 11, 'n_estimators': 500}\n",
      "0.796 (+/-0.115) for {'learning_rate': 0.1, 'max_depth': 1, 'n_estimators': 5}\n",
      "0.796 (+/-0.115) for {'learning_rate': 0.1, 'max_depth': 1, 'n_estimators': 25}\n",
      "0.815 (+/-0.119) for {'learning_rate': 0.1, 'max_depth': 1, 'n_estimators': 50}\n",
      "0.818 (+/-0.111) for {'learning_rate': 0.1, 'max_depth': 1, 'n_estimators': 250}\n",
      "0.828 (+/-0.092) for {'learning_rate': 0.1, 'max_depth': 1, 'n_estimators': 500}\n",
      "0.813 (+/-0.071) for {'learning_rate': 0.1, 'max_depth': 3, 'n_estimators': 5}\n",
      "0.835 (+/-0.086) for {'learning_rate': 0.1, 'max_depth': 3, 'n_estimators': 25}\n",
      "0.841 (+/-0.07) for {'learning_rate': 0.1, 'max_depth': 3, 'n_estimators': 50}\n",
      "0.826 (+/-0.041) for {'learning_rate': 0.1, 'max_depth': 3, 'n_estimators': 250}\n",
      "0.811 (+/-0.036) for {'learning_rate': 0.1, 'max_depth': 3, 'n_estimators': 500}\n",
      "0.813 (+/-0.051) for {'learning_rate': 0.1, 'max_depth': 5, 'n_estimators': 5}\n",
      "0.82 (+/-0.024) for {'learning_rate': 0.1, 'max_depth': 5, 'n_estimators': 25}\n",
      "0.816 (+/-0.042) for {'learning_rate': 0.1, 'max_depth': 5, 'n_estimators': 50}\n",
      "0.807 (+/-0.03) for {'learning_rate': 0.1, 'max_depth': 5, 'n_estimators': 250}\n",
      "0.796 (+/-0.034) for {'learning_rate': 0.1, 'max_depth': 5, 'n_estimators': 500}\n",
      "0.822 (+/-0.051) for {'learning_rate': 0.1, 'max_depth': 7, 'n_estimators': 5}\n",
      "0.809 (+/-0.025) for {'learning_rate': 0.1, 'max_depth': 7, 'n_estimators': 25}\n",
      "0.803 (+/-0.024) for {'learning_rate': 0.1, 'max_depth': 7, 'n_estimators': 50}\n",
      "0.794 (+/-0.026) for {'learning_rate': 0.1, 'max_depth': 7, 'n_estimators': 250}\n",
      "0.794 (+/-0.035) for {'learning_rate': 0.1, 'max_depth': 7, 'n_estimators': 500}\n",
      "0.796 (+/-0.046) for {'learning_rate': 0.1, 'max_depth': 9, 'n_estimators': 5}\n",
      "0.798 (+/-0.039) for {'learning_rate': 0.1, 'max_depth': 9, 'n_estimators': 25}\n",
      "0.792 (+/-0.031) for {'learning_rate': 0.1, 'max_depth': 9, 'n_estimators': 50}\n",
      "0.785 (+/-0.028) for {'learning_rate': 0.1, 'max_depth': 9, 'n_estimators': 250}\n",
      "0.785 (+/-0.039) for {'learning_rate': 0.1, 'max_depth': 9, 'n_estimators': 500}\n",
      "0.796 (+/-0.062) for {'learning_rate': 0.1, 'max_depth': 11, 'n_estimators': 5}\n",
      "0.788 (+/-0.034) for {'learning_rate': 0.1, 'max_depth': 11, 'n_estimators': 25}\n",
      "0.783 (+/-0.038) for {'learning_rate': 0.1, 'max_depth': 11, 'n_estimators': 50}\n",
      "0.777 (+/-0.029) for {'learning_rate': 0.1, 'max_depth': 11, 'n_estimators': 250}\n",
      "0.785 (+/-0.031) for {'learning_rate': 0.1, 'max_depth': 11, 'n_estimators': 500}\n",
      "0.818 (+/-0.099) for {'learning_rate': 1, 'max_depth': 1, 'n_estimators': 5}\n",
      "0.835 (+/-0.07) for {'learning_rate': 1, 'max_depth': 1, 'n_estimators': 25}\n",
      "0.832 (+/-0.081) for {'learning_rate': 1, 'max_depth': 1, 'n_estimators': 50}\n",
      "0.826 (+/-0.077) for {'learning_rate': 1, 'max_depth': 1, 'n_estimators': 250}\n",
      "0.822 (+/-0.081) for {'learning_rate': 1, 'max_depth': 1, 'n_estimators': 500}\n",
      "0.82 (+/-0.061) for {'learning_rate': 1, 'max_depth': 3, 'n_estimators': 5}\n",
      "0.788 (+/-0.019) for {'learning_rate': 1, 'max_depth': 3, 'n_estimators': 25}\n",
      "0.801 (+/-0.023) for {'learning_rate': 1, 'max_depth': 3, 'n_estimators': 50}\n",
      "0.788 (+/-0.043) for {'learning_rate': 1, 'max_depth': 3, 'n_estimators': 250}\n",
      "0.792 (+/-0.027) for {'learning_rate': 1, 'max_depth': 3, 'n_estimators': 500}\n",
      "0.8 (+/-0.03) for {'learning_rate': 1, 'max_depth': 5, 'n_estimators': 5}\n",
      "0.792 (+/-0.054) for {'learning_rate': 1, 'max_depth': 5, 'n_estimators': 25}\n",
      "0.785 (+/-0.021) for {'learning_rate': 1, 'max_depth': 5, 'n_estimators': 50}\n",
      "0.798 (+/-0.041) for {'learning_rate': 1, 'max_depth': 5, 'n_estimators': 250}\n",
      "0.794 (+/-0.042) for {'learning_rate': 1, 'max_depth': 5, 'n_estimators': 500}\n",
      "0.79 (+/-0.019) for {'learning_rate': 1, 'max_depth': 7, 'n_estimators': 5}\n",
      "0.803 (+/-0.051) for {'learning_rate': 1, 'max_depth': 7, 'n_estimators': 25}\n",
      "0.788 (+/-0.041) for {'learning_rate': 1, 'max_depth': 7, 'n_estimators': 50}\n",
      "0.794 (+/-0.031) for {'learning_rate': 1, 'max_depth': 7, 'n_estimators': 250}\n",
      "0.798 (+/-0.04) for {'learning_rate': 1, 'max_depth': 7, 'n_estimators': 500}\n",
      "0.796 (+/-0.031) for {'learning_rate': 1, 'max_depth': 9, 'n_estimators': 5}\n",
      "0.786 (+/-0.037) for {'learning_rate': 1, 'max_depth': 9, 'n_estimators': 25}\n",
      "0.779 (+/-0.032) for {'learning_rate': 1, 'max_depth': 9, 'n_estimators': 50}\n",
      "0.796 (+/-0.06) for {'learning_rate': 1, 'max_depth': 9, 'n_estimators': 250}\n",
      "0.807 (+/-0.054) for {'learning_rate': 1, 'max_depth': 9, 'n_estimators': 500}\n",
      "0.772 (+/-0.027) for {'learning_rate': 1, 'max_depth': 11, 'n_estimators': 5}\n",
      "0.775 (+/-0.023) for {'learning_rate': 1, 'max_depth': 11, 'n_estimators': 25}\n",
      "0.798 (+/-0.03) for {'learning_rate': 1, 'max_depth': 11, 'n_estimators': 50}\n",
      "0.79 (+/-0.032) for {'learning_rate': 1, 'max_depth': 11, 'n_estimators': 250}\n",
      "0.803 (+/-0.027) for {'learning_rate': 1, 'max_depth': 11, 'n_estimators': 500}\n",
      "0.204 (+/-0.115) for {'learning_rate': 10, 'max_depth': 1, 'n_estimators': 5}\n",
      "0.204 (+/-0.115) for {'learning_rate': 10, 'max_depth': 1, 'n_estimators': 25}\n",
      "0.204 (+/-0.115) for {'learning_rate': 10, 'max_depth': 1, 'n_estimators': 50}\n",
      "0.204 (+/-0.115) for {'learning_rate': 10, 'max_depth': 1, 'n_estimators': 250}\n",
      "0.204 (+/-0.115) for {'learning_rate': 10, 'max_depth': 1, 'n_estimators': 500}\n",
      "0.307 (+/-0.195) for {'learning_rate': 10, 'max_depth': 3, 'n_estimators': 5}\n",
      "0.307 (+/-0.195) for {'learning_rate': 10, 'max_depth': 3, 'n_estimators': 25}\n",
      "0.307 (+/-0.195) for {'learning_rate': 10, 'max_depth': 3, 'n_estimators': 50}\n",
      "0.307 (+/-0.195) for {'learning_rate': 10, 'max_depth': 3, 'n_estimators': 250}\n",
      "0.307 (+/-0.195) for {'learning_rate': 10, 'max_depth': 3, 'n_estimators': 500}\n",
      "0.386 (+/-0.169) for {'learning_rate': 10, 'max_depth': 5, 'n_estimators': 5}\n",
      "0.395 (+/-0.186) for {'learning_rate': 10, 'max_depth': 5, 'n_estimators': 25}\n",
      "0.378 (+/-0.201) for {'learning_rate': 10, 'max_depth': 5, 'n_estimators': 50}\n",
      "0.395 (+/-0.261) for {'learning_rate': 10, 'max_depth': 5, 'n_estimators': 250}\n",
      "0.369 (+/-0.169) for {'learning_rate': 10, 'max_depth': 5, 'n_estimators': 500}\n",
      "0.592 (+/-0.168) for {'learning_rate': 10, 'max_depth': 7, 'n_estimators': 5}\n",
      "0.603 (+/-0.205) for {'learning_rate': 10, 'max_depth': 7, 'n_estimators': 25}\n",
      "0.597 (+/-0.132) for {'learning_rate': 10, 'max_depth': 7, 'n_estimators': 50}\n",
      "0.596 (+/-0.188) for {'learning_rate': 10, 'max_depth': 7, 'n_estimators': 250}\n",
      "0.584 (+/-0.166) for {'learning_rate': 10, 'max_depth': 7, 'n_estimators': 500}\n",
      "0.697 (+/-0.131) for {'learning_rate': 10, 'max_depth': 9, 'n_estimators': 5}\n",
      "0.706 (+/-0.134) for {'learning_rate': 10, 'max_depth': 9, 'n_estimators': 25}\n",
      "0.678 (+/-0.115) for {'learning_rate': 10, 'max_depth': 9, 'n_estimators': 50}\n",
      "0.712 (+/-0.121) for {'learning_rate': 10, 'max_depth': 9, 'n_estimators': 250}\n",
      "0.712 (+/-0.155) for {'learning_rate': 10, 'max_depth': 9, 'n_estimators': 500}\n",
      "0.757 (+/-0.046) for {'learning_rate': 10, 'max_depth': 11, 'n_estimators': 5}\n",
      "0.764 (+/-0.075) for {'learning_rate': 10, 'max_depth': 11, 'n_estimators': 25}\n",
      "0.74 (+/-0.075) for {'learning_rate': 10, 'max_depth': 11, 'n_estimators': 50}\n",
      "0.745 (+/-0.06) for {'learning_rate': 10, 'max_depth': 11, 'n_estimators': 250}\n",
      "0.753 (+/-0.048) for {'learning_rate': 10, 'max_depth': 11, 'n_estimators': 500}\n",
      "0.376 (+/-0.007) for {'learning_rate': 100, 'max_depth': 1, 'n_estimators': 5}\n",
      "0.376 (+/-0.007) for {'learning_rate': 100, 'max_depth': 1, 'n_estimators': 25}\n",
      "0.376 (+/-0.007) for {'learning_rate': 100, 'max_depth': 1, 'n_estimators': 50}\n",
      "0.376 (+/-0.007) for {'learning_rate': 100, 'max_depth': 1, 'n_estimators': 250}\n",
      "0.376 (+/-0.007) for {'learning_rate': 100, 'max_depth': 1, 'n_estimators': 500}\n",
      "0.29 (+/-0.102) for {'learning_rate': 100, 'max_depth': 3, 'n_estimators': 5}\n",
      "0.29 (+/-0.102) for {'learning_rate': 100, 'max_depth': 3, 'n_estimators': 25}\n",
      "0.29 (+/-0.102) for {'learning_rate': 100, 'max_depth': 3, 'n_estimators': 50}\n",
      "0.29 (+/-0.102) for {'learning_rate': 100, 'max_depth': 3, 'n_estimators': 250}\n",
      "0.29 (+/-0.102) for {'learning_rate': 100, 'max_depth': 3, 'n_estimators': 500}\n",
      "0.352 (+/-0.19) for {'learning_rate': 100, 'max_depth': 5, 'n_estimators': 5}\n",
      "0.354 (+/-0.176) for {'learning_rate': 100, 'max_depth': 5, 'n_estimators': 25}\n",
      "0.359 (+/-0.187) for {'learning_rate': 100, 'max_depth': 5, 'n_estimators': 50}\n",
      "0.348 (+/-0.187) for {'learning_rate': 100, 'max_depth': 5, 'n_estimators': 250}\n",
      "0.359 (+/-0.181) for {'learning_rate': 100, 'max_depth': 5, 'n_estimators': 500}\n",
      "0.537 (+/-0.153) for {'learning_rate': 100, 'max_depth': 7, 'n_estimators': 5}\n",
      "0.564 (+/-0.101) for {'learning_rate': 100, 'max_depth': 7, 'n_estimators': 25}\n",
      "0.564 (+/-0.1) for {'learning_rate': 100, 'max_depth': 7, 'n_estimators': 50}\n",
      "0.59 (+/-0.093) for {'learning_rate': 100, 'max_depth': 7, 'n_estimators': 250}\n",
      "0.562 (+/-0.126) for {'learning_rate': 100, 'max_depth': 7, 'n_estimators': 500}\n",
      "0.64 (+/-0.108) for {'learning_rate': 100, 'max_depth': 9, 'n_estimators': 5}\n",
      "0.665 (+/-0.086) for {'learning_rate': 100, 'max_depth': 9, 'n_estimators': 25}\n",
      "0.652 (+/-0.06) for {'learning_rate': 100, 'max_depth': 9, 'n_estimators': 50}\n",
      "0.676 (+/-0.082) for {'learning_rate': 100, 'max_depth': 9, 'n_estimators': 250}\n",
      "0.663 (+/-0.071) for {'learning_rate': 100, 'max_depth': 9, 'n_estimators': 500}\n",
      "0.749 (+/-0.043) for {'learning_rate': 100, 'max_depth': 11, 'n_estimators': 5}\n",
      "0.697 (+/-0.067) for {'learning_rate': 100, 'max_depth': 11, 'n_estimators': 25}\n",
      "0.717 (+/-0.053) for {'learning_rate': 100, 'max_depth': 11, 'n_estimators': 50}\n",
      "0.704 (+/-0.056) for {'learning_rate': 100, 'max_depth': 11, 'n_estimators': 250}\n",
      "0.721 (+/-0.079) for {'learning_rate': 100, 'max_depth': 11, 'n_estimators': 500}\n"
     ]
    }
   ],
   "source": [
    "gb = GradientBoostingClassifier()\n",
    "parameters = {\n",
    "    'n_estimators': [5,25,50,250,500],\n",
    "    'max_depth': [1,3,5,7,9,11],\n",
    "    'learning_rate': [0.01,0.1,1,10,100]\n",
    "}\n",
    "cv = GridSearchCV(gb,parameters,cv=5)\n",
    "cv.fit(tr_features,tr_labels.values.ravel())\n",
    "print_results(cv)"
   ]
  },
  {
   "cell_type": "code",
   "execution_count": 7,
   "metadata": {},
   "outputs": [
    {
     "data": {
      "text/plain": [
       "GradientBoostingClassifier(learning_rate=0.01, n_estimators=500)"
      ]
     },
     "execution_count": 7,
     "metadata": {},
     "output_type": "execute_result"
    }
   ],
   "source": [
    "cv.best_estimator_"
   ]
  },
  {
   "cell_type": "markdown",
   "metadata": {},
   "source": [
    "### Write out pickled model"
   ]
  },
  {
   "cell_type": "code",
   "execution_count": 8,
   "metadata": {},
   "outputs": [
    {
     "data": {
      "text/plain": [
       "['../../../GB_model.pkl']"
      ]
     },
     "execution_count": 8,
     "metadata": {},
     "output_type": "execute_result"
    }
   ],
   "source": [
    "joblib.dump(cv.best_estimator_,'../../../GB_model.pkl')"
   ]
  },
  {
   "cell_type": "code",
   "execution_count": null,
   "metadata": {},
   "outputs": [],
   "source": []
  }
 ],
 "metadata": {
  "kernelspec": {
   "display_name": "Python 3 (ipykernel)",
   "language": "python",
   "name": "python3"
  },
  "language_info": {
   "codemirror_mode": {
    "name": "ipython",
    "version": 3
   },
   "file_extension": ".py",
   "mimetype": "text/x-python",
   "name": "python",
   "nbconvert_exporter": "python",
   "pygments_lexer": "ipython3",
   "version": "3.9.13"
  }
 },
 "nbformat": 4,
 "nbformat_minor": 2
}
