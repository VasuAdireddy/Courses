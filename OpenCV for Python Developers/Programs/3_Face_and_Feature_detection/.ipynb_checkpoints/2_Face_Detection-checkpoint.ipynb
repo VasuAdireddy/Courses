{
 "cells": [
  {
   "cell_type": "code",
   "execution_count": 1,
   "id": "ffcf91dc",
   "metadata": {},
   "outputs": [],
   "source": [
    "import numpy as np\n",
    "import cv2"
   ]
  },
  {
   "cell_type": "code",
   "execution_count": 4,
   "id": "ea8d6396",
   "metadata": {},
   "outputs": [
    {
     "name": "stdout",
     "output_type": "stream",
     "text": [
      "27\n"
     ]
    }
   ],
   "source": [
    "img = cv2.imread(\"faces.jpeg\",1)\n",
    "gray = cv2.cvtColor(img,cv2.COLOR_BGR2GRAY)\n",
    "\n",
    "path = \"haarcascade_frontalface_default.xml\"\n",
    "\n",
    "face_cascade = cv2.CascadeClassifier(path)\n",
    "\n",
    "\n",
    "faces = face_cascade.detectMultiScale(gray,scaleFactor=1.05,minNeighbors=5\n",
    "                                     , minSize=(40,40))\n",
    "# scaleFactor determines faces how close to camera should be detected\n",
    "# minNeighbours -> minimum no of object detections required before considering it a face\n",
    "# minSize -> minimum size of the face\n",
    "# result to above creates a list that contains all bounding boxes for detected faces\n",
    "\n",
    "print(len(faces))\n",
    "\n",
    "for (x,y,w,h) in faces:\n",
    "    cv2.rectangle(img,(x,y), (x+w,y+h), (0,255,0),2)\n",
    "# (x,y) is the starting point to draw rectangle\n",
    "# (x+w,y+h) is ending point\n",
    "\n",
    "cv2.imshow(\"image\",img)\n",
    "\n",
    "cv2.waitKey(0)\n",
    "cv2.destroyAllWindows()"
   ]
  },
  {
   "cell_type": "code",
   "execution_count": 5,
   "id": "e298188a",
   "metadata": {},
   "outputs": [],
   "source": [
    "# above result in some false positives,\n",
    "# which means some are part of faces but they are \n",
    "# being identified as new faces\n",
    "\n",
    "# we can change the scaling factor for that for closeness"
   ]
  },
  {
   "cell_type": "code",
   "execution_count": 6,
   "id": "3f79033f",
   "metadata": {},
   "outputs": [
    {
     "name": "stdout",
     "output_type": "stream",
     "text": [
      "24\n"
     ]
    }
   ],
   "source": [
    "img = cv2.imread(\"faces.jpeg\",1)\n",
    "gray = cv2.cvtColor(img,cv2.COLOR_BGR2GRAY)\n",
    "\n",
    "path = \"haarcascade_frontalface_default.xml\"\n",
    "\n",
    "face_cascade = cv2.CascadeClassifier(path)\n",
    "\n",
    "\n",
    "faces = face_cascade.detectMultiScale(gray,scaleFactor=1.10,minNeighbors=5\n",
    "                                     , minSize=(40,40))\n",
    "\n",
    "print(len(faces))\n",
    "\n",
    "for (x,y,w,h) in faces:\n",
    "    cv2.rectangle(img,(x,y), (x+w,y+h), (0,255,0),2)\n",
    "\n",
    "\n",
    "cv2.imshow(\"image\",img)\n",
    "\n",
    "cv2.waitKey(0)\n",
    "cv2.destroyAllWindows()"
   ]
  },
  {
   "cell_type": "code",
   "execution_count": 7,
   "id": "8ec58f3d",
   "metadata": {},
   "outputs": [],
   "source": [
    "# above we can see some false negatives,\n",
    "# which means some are faces but they are not being detected"
   ]
  },
  {
   "cell_type": "code",
   "execution_count": 17,
   "id": "c7b2e315",
   "metadata": {},
   "outputs": [
    {
     "name": "stdout",
     "output_type": "stream",
     "text": [
      "26\n"
     ]
    }
   ],
   "source": [
    "img = cv2.imread(\"faces.jpeg\",1)\n",
    "gray = cv2.cvtColor(img,cv2.COLOR_BGR2GRAY)\n",
    "\n",
    "path = \"haarcascade_frontalface_default.xml\"\n",
    "\n",
    "face_cascade = cv2.CascadeClassifier(path)\n",
    "\n",
    "\n",
    "faces = face_cascade.detectMultiScale(gray,scaleFactor=1.07,minNeighbors=5\n",
    "                                     , minSize=(40,40))\n",
    "\n",
    "print(len(faces))\n",
    "\n",
    "for (x,y,w,h) in faces:\n",
    "    cv2.rectangle(img,(x,y), (x+w,y+h), (0,255,0),2)\n",
    "\n",
    "\n",
    "cv2.imshow(\"image\",img)\n",
    "\n",
    "cv2.waitKey(0)\n",
    "cv2.destroyAllWindows()"
   ]
  },
  {
   "cell_type": "code",
   "execution_count": 18,
   "id": "3e308362",
   "metadata": {},
   "outputs": [],
   "source": [
    "# still getting 1 false positive"
   ]
  },
  {
   "cell_type": "code",
   "execution_count": null,
   "id": "4cf1131b",
   "metadata": {},
   "outputs": [],
   "source": []
  }
 ],
 "metadata": {
  "kernelspec": {
   "display_name": "Python 3 (ipykernel)",
   "language": "python",
   "name": "python3"
  },
  "language_info": {
   "codemirror_mode": {
    "name": "ipython",
    "version": 3
   },
   "file_extension": ".py",
   "mimetype": "text/x-python",
   "name": "python",
   "nbconvert_exporter": "python",
   "pygments_lexer": "ipython3",
   "version": "3.9.13"
  }
 },
 "nbformat": 4,
 "nbformat_minor": 5
}
