{
 "cells": [
  {
   "cell_type": "code",
   "execution_count": 1,
   "id": "93168a85",
   "metadata": {},
   "outputs": [],
   "source": [
    "import numpy as np\n",
    "import cv2"
   ]
  },
  {
   "cell_type": "code",
   "execution_count": 2,
   "id": "b0340b5c",
   "metadata": {},
   "outputs": [],
   "source": [
    "# canny edge is used for better seperation of objects within the image\n",
    "# canny edge creates a single pixel wide line at key high gradient\n",
    "# ares in image, so we can seperate objects easily"
   ]
  },
  {
   "cell_type": "code",
   "execution_count": 4,
   "id": "13c5a8a9",
   "metadata": {},
   "outputs": [],
   "source": [
    "img = cv2.imread(\"tomatoes.jpg\", 1)\n",
    "\n",
    "hsv = cv2.cvtColor(img, cv2.COLOR_BGR2HSV)\n",
    "# 255 with extract red color, which is of tomatoes\n",
    "res, thresh = cv2.threshold(hsv[:,:,0], 25, 255, cv2.THRESH_BINARY_INV)\n",
    "\n",
    "cv2.imshow(\"Thresh\",thresh)\n",
    "\n",
    "cv2.waitKey(0)\n",
    "cv2.destroyAllWindows()"
   ]
  },
  {
   "cell_type": "code",
   "execution_count": 3,
   "id": "858e1cc8",
   "metadata": {},
   "outputs": [],
   "source": [
    "img = cv2.imread(\"tomatoes.jpg\", 1)\n",
    "\n",
    "hsv = cv2.cvtColor(img, cv2.COLOR_BGR2HSV)\n",
    "res, thresh = cv2.threshold(hsv[:,:,0], 25, 255, cv2.THRESH_BINARY_INV)\n",
    "cv2.imshow(\"Thresh\",thresh)\n",
    "\n",
    "edges = cv2.Canny(img, 100, 200, apertureSize=3) #here 100,200 are min,max threshold values\n",
    "cv2.imshow('Canny',edges)\n",
    "\n",
    "cv2.waitKey(0)\n",
    "cv2.destroyAllWindows()"
   ]
  },
  {
   "cell_type": "code",
   "execution_count": 4,
   "id": "1e165caa",
   "metadata": {},
   "outputs": [],
   "source": [
    "# above we canny image ,we can see clear seperation of tomatoes, even though they are side by side"
   ]
  },
  {
   "cell_type": "code",
   "execution_count": null,
   "id": "a21e1730",
   "metadata": {},
   "outputs": [],
   "source": []
  },
  {
   "cell_type": "code",
   "execution_count": 5,
   "id": "61cad5c1",
   "metadata": {},
   "outputs": [
    {
     "name": "stdout",
     "output_type": "stream",
     "text": [
      "Area : 1788.5\n",
      "Area : 1518.5\n",
      "Area : 966.5\n",
      "Area : 1436.0\n",
      "Area : 517.5\n",
      "Area : 6313.5\n",
      "Area : 6930.0\n",
      "Area : 307.0\n",
      "Area : 2636.0\n",
      "Area : 374.0\n"
     ]
    }
   ],
   "source": [
    "img = cv2.imread(\"tomatoes.jpg\", 1)\n",
    "\n",
    "hsv = cv2.cvtColor(img, cv2.COLOR_BGR2HSV)\n",
    "res, thresh = cv2.threshold(hsv[:,:,0], 25, 255, cv2.THRESH_BINARY_INV)\n",
    "cv2.imshow(\"Thresh\",thresh)\n",
    "\n",
    "edges = cv2.Canny(img, 100, 200, apertureSize=3)\n",
    "cv2.imshow('Canny',edges)\n",
    "\n",
    "# this gives inverted edge img, which means now edges are \n",
    "# coloured black intead of white\n",
    "edge_inv = 255- edges\n",
    "\n",
    "#use erosion to increase size of border\n",
    "kernel = np.ones((3,3), 'uint8')\n",
    "erode = cv2.erode(edge_inv, kernel, iterations=1)\n",
    "\n",
    "canny_thresh = cv2.bitwise_and(erode,thresh)\n",
    "cv2.imshow(\"Canny Thresh\",canny_thresh)\n",
    "\n",
    "contours, hierarchy = cv2.findContours(canny_thresh, cv2.RETR_TREE, \n",
    "                                      cv2.CHAIN_APPROX_SIMPLE)\n",
    "\n",
    "objects = img.copy()\n",
    "for c in contours:\n",
    "    area = cv2.contourArea(c)\n",
    "    if area<300:\n",
    "        # this will skip small objects or contours\n",
    "        continue\n",
    "    print(\"Area :\",area)\n",
    "    cv2.drawContours(objects,[c], -1, (255,255,255), 1)\n",
    "    M = cv2.moments(c)\n",
    "    cx = int(M['m10']/M['m00'])\n",
    "    cy = int(M['m01']/M['m00'])\n",
    "    cv2.circle(objects, (cx,cy), 4 , (255, 255, 0), -1)\n",
    "\n",
    "cv2.imshow(\"Final draw-over\", objects)\n",
    "\n",
    "cv2.waitKey(0)\n",
    "cv2.destroyAllWindows()"
   ]
  },
  {
   "cell_type": "code",
   "execution_count": 6,
   "id": "8469312d",
   "metadata": {},
   "outputs": [],
   "source": [
    "# above we can see clear seperation of tomatoes with edges\n",
    "# it also has disadvantages like sperating one tomato as 2"
   ]
  },
  {
   "cell_type": "code",
   "execution_count": null,
   "id": "8399e252",
   "metadata": {},
   "outputs": [],
   "source": []
  }
 ],
 "metadata": {
  "kernelspec": {
   "display_name": "Python 3 (ipykernel)",
   "language": "python",
   "name": "python3"
  },
  "language_info": {
   "codemirror_mode": {
    "name": "ipython",
    "version": 3
   },
   "file_extension": ".py",
   "mimetype": "text/x-python",
   "name": "python",
   "nbconvert_exporter": "python",
   "pygments_lexer": "ipython3",
   "version": "3.9.13"
  }
 },
 "nbformat": 4,
 "nbformat_minor": 5
}
