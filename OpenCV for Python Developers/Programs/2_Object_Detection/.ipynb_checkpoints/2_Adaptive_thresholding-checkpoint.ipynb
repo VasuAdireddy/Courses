{
 "cells": [
  {
   "cell_type": "code",
   "execution_count": 2,
   "id": "75036396",
   "metadata": {},
   "outputs": [],
   "source": [
    "import numpy as np\n",
    "import cv2"
   ]
  },
  {
   "cell_type": "code",
   "execution_count": 3,
   "id": "8dabce6e",
   "metadata": {},
   "outputs": [],
   "source": [
    "# simple thresholding is powerfull, but when there is uneven lighting \n",
    "# it wont work well\n",
    "# Adaptive thresholding will increase the versatility of image thresholding operations\n",
    "# it checks neighbour pixels and see whether required threshold is met\n"
   ]
  },
  {
   "cell_type": "code",
   "execution_count": 4,
   "id": "0e1e7a45",
   "metadata": {},
   "outputs": [],
   "source": [
    "img = cv2.imread(r\"D:\\Courses\\New folder\\Courses\\OpenCV for Python Developers\\Programs\\2_Object_Detection\\sudoku.png\",0)\n",
    "cv2.imshow(\"Original\", img)\n",
    "\n",
    "thresh=70\n",
    "ret,thresh_basic = cv2.threshold(img,thresh,255,cv2.THRESH_BINARY)\n",
    "cv2.imshow(\"THRESH_BASIC\",thresh_basic)\n",
    "\n",
    "thresh_adapt = cv2.adaptiveThreshold(img, 255, cv2.ADAPTIVE_THRESH_GAUSSIAN_C,\n",
    "                                    cv2.THRESH_BINARY, 115,1)\n",
    "# 115 is neighourhood parametrer, how long it need to check for choosing pixel\n",
    "cv2.imshow(\"Adaptive_Threshold\",thresh_adapt)\n",
    "\n",
    "cv2.waitKey(0)\n",
    "cv2.destroyAllWindows()"
   ]
  },
  {
   "cell_type": "code",
   "execution_count": null,
   "id": "9387f2c2",
   "metadata": {},
   "outputs": [],
   "source": []
  }
 ],
 "metadata": {
  "kernelspec": {
   "display_name": "Python 3 (ipykernel)",
   "language": "python",
   "name": "python3"
  },
  "language_info": {
   "codemirror_mode": {
    "name": "ipython",
    "version": 3
   },
   "file_extension": ".py",
   "mimetype": "text/x-python",
   "name": "python",
   "nbconvert_exporter": "python",
   "pygments_lexer": "ipython3",
   "version": "3.9.13"
  }
 },
 "nbformat": 4,
 "nbformat_minor": 5
}
