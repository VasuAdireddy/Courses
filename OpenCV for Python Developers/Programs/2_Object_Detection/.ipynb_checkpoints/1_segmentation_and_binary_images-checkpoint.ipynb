{
 "cells": [
  {
   "cell_type": "code",
   "execution_count": 2,
   "id": "ba68bb5b",
   "metadata": {},
   "outputs": [],
   "source": [
    "import cv2\n",
    "import numpy as np"
   ]
  },
  {
   "cell_type": "code",
   "execution_count": 3,
   "id": "462f5c21",
   "metadata": {},
   "outputs": [
    {
     "data": {
      "text/plain": [
       "'\\nSegmentation : It can be done by variety of ways, but the final output\\nis a binary image of zeros and ones.\\n\\n'"
      ]
     },
     "execution_count": 3,
     "metadata": {},
     "output_type": "execute_result"
    }
   ],
   "source": [
    "'''\n",
    "Segmentation : It can be done by variety of ways, but the final output\n",
    "is a binary image of zeros and ones.\n",
    "\n",
    "'''"
   ]
  },
  {
   "cell_type": "code",
   "execution_count": 3,
   "id": "ac263292",
   "metadata": {},
   "outputs": [],
   "source": [
    "#simple tresholding\n",
    "\n",
    "# 0 will tell cv2 to load image explicitly\n",
    "bw = cv2.imread(r\"D:\\Courses\\New folder\\Courses\\OpenCV for Python Developers\\Programs\\detect_blob.png\",0)\n",
    "height, width = bw.shape[0:2]\n",
    "cv2.imshow(\"Original BW\",bw)\n",
    "\n",
    "binary = np.zeros([height,width,1],'uint8')\n",
    "\n",
    "#we compare every pixel against threshold\n",
    "thresh = 85\n",
    "\n",
    "for row in range(0,height):\n",
    "    for col in range(0,width):\n",
    "        if bw[row][col] > thresh:\n",
    "            binary[row][col]=255\n",
    "\n",
    "cv2.imshow(\"Show Binary\",binary)\n",
    "\n",
    "cv2.waitKey(0)\n",
    "cv2.destroyAllWindows()"
   ]
  },
  {
   "cell_type": "code",
   "execution_count": 4,
   "id": "4487be83",
   "metadata": {},
   "outputs": [],
   "source": [
    "# i think above is working like dilate and erode filters"
   ]
  },
  {
   "cell_type": "code",
   "execution_count": null,
   "id": "018a8956",
   "metadata": {},
   "outputs": [],
   "source": []
  },
  {
   "cell_type": "code",
   "execution_count": 4,
   "id": "3e7ffcba",
   "metadata": {},
   "outputs": [],
   "source": [
    "#simple tresholding\n",
    "# other method\n",
    "\n",
    "bw = cv2.imread(r\"D:\\Courses\\New folder\\Courses\\OpenCV for Python Developers\\Programs\\detect_blob.png\",0)\n",
    "height, width = bw.shape[0:2]\n",
    "cv2.imshow(\"Original BW\",bw)\n",
    "\n",
    "thresh=85\n",
    "ret,thresh = cv2.threshold(bw,thresh,255,cv2.THRESH_BINARY)\n",
    "cv2.imshow(\"CV Threshhold\", thresh)\n",
    "\n",
    "cv2.waitKey(0)\n",
    "cv2.destroyAllWindows()"
   ]
  },
  {
   "cell_type": "code",
   "execution_count": null,
   "id": "b094dba7",
   "metadata": {},
   "outputs": [],
   "source": []
  }
 ],
 "metadata": {
  "kernelspec": {
   "display_name": "Python 3 (ipykernel)",
   "language": "python",
   "name": "python3"
  },
  "language_info": {
   "codemirror_mode": {
    "name": "ipython",
    "version": 3
   },
   "file_extension": ".py",
   "mimetype": "text/x-python",
   "name": "python",
   "nbconvert_exporter": "python",
   "pygments_lexer": "ipython3",
   "version": "3.9.13"
  }
 },
 "nbformat": 4,
 "nbformat_minor": 5
}
