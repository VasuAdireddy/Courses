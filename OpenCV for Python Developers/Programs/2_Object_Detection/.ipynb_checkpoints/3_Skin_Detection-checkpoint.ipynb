{
 "cells": [
  {
   "cell_type": "code",
   "execution_count": 1,
   "id": "0bff2a14",
   "metadata": {},
   "outputs": [],
   "source": [
    "import cv2\n",
    "import numpy as np"
   ]
  },
  {
   "cell_type": "code",
   "execution_count": 7,
   "id": "e0e4dffd",
   "metadata": {},
   "outputs": [],
   "source": [
    "img = cv2.imread('faces.jpeg',1)\n",
    "\n",
    "img = cv2.resize(img,(0,0),fx=0.15,fy=0.2)\n",
    "\n",
    "hsv = cv2.cvtColor(img,cv2.COLOR_BGR2HSV)\n",
    "h = hsv[:,:,0]\n",
    "s = hsv[:,:,1]\n",
    "v = hsv[:,:,2]\n",
    "\n",
    "hsv_split = np.concatenate((h,s,v), axis=1)\n",
    "cv2.imshow(\"Split HSV\", hsv_split)\n",
    "\n",
    "cv2.waitKey(0)\n",
    "cv2.destroyAllWindows()"
   ]
  },
  {
   "cell_type": "code",
   "execution_count": null,
   "id": "5f17064f",
   "metadata": {},
   "outputs": [],
   "source": []
  },
  {
   "cell_type": "code",
   "execution_count": 2,
   "id": "8fbd59e7",
   "metadata": {},
   "outputs": [],
   "source": [
    "img = cv2.imread('faces.jpeg',1)\n",
    "\n",
    "img = cv2.resize(img,(0,0),fx=0.15,fy=0.2)\n",
    "\n",
    "hsv = cv2.cvtColor(img,cv2.COLOR_BGR2HSV)\n",
    "h = hsv[:,:,0]\n",
    "s = hsv[:,:,1]\n",
    "v = hsv[:,:,2]\n",
    "\n",
    "hsv_split = np.concatenate((h,s,v), axis=1)\n",
    "cv2.imshow(\"Split HSV\", hsv_split)\n",
    "\n",
    "ret,min_sat = cv2.threshold(s,40,255,cv2.THRESH_BINARY)\n",
    "cv2.imshow(\"Sat Filter\",min_sat)\n",
    "\n",
    "ret,max_hue = cv2.threshold(h,15,255,cv2.THRESH_BINARY_INV)\n",
    "cv2.imshow(\"Hue Filter\",max_hue)\n",
    "\n",
    "final = cv2.bitwise_and(min_sat,max_hue)\n",
    "cv2.imshow(\"Final\",final)\n",
    "cv2.imshow(\"Original\",img)\n",
    "\n",
    "cv2.waitKey(0)\n",
    "cv2.destroyAllWindows()"
   ]
  },
  {
   "cell_type": "code",
   "execution_count": null,
   "id": "c5488984",
   "metadata": {},
   "outputs": [],
   "source": []
  }
 ],
 "metadata": {
  "kernelspec": {
   "display_name": "Python 3 (ipykernel)",
   "language": "python",
   "name": "python3"
  },
  "language_info": {
   "codemirror_mode": {
    "name": "ipython",
    "version": 3
   },
   "file_extension": ".py",
   "mimetype": "text/x-python",
   "name": "python",
   "nbconvert_exporter": "python",
   "pygments_lexer": "ipython3",
   "version": "3.9.13"
  }
 },
 "nbformat": 4,
 "nbformat_minor": 5
}
