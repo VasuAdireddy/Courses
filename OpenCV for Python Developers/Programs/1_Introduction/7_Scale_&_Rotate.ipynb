{
 "cells": [
  {
   "cell_type": "code",
   "execution_count": 5,
   "id": "a8cad6f1",
   "metadata": {},
   "outputs": [],
   "source": [
    "import cv2\n",
    "import numpy as np"
   ]
  },
  {
   "cell_type": "code",
   "execution_count": 6,
   "id": "9d7af62a",
   "metadata": {},
   "outputs": [],
   "source": [
    "img = cv2.imread(r\"D:\\Courses\\New folder\\Courses\\OpenCV for Python Developers\\Ex_Files_OpenCV_Python_Developers\\Exercise Files\\Ch02\\02_07 Begin\\players.jpg\")"
   ]
  },
  {
   "cell_type": "code",
   "execution_count": 4,
   "id": "3d1ae693",
   "metadata": {},
   "outputs": [],
   "source": [
    "#sclae\n",
    "\n",
    "# this will resize image half in x and y axis, this is implicit, like some percentage of exisiting size\n",
    "img_half = cv2.resize(img,(0,0),fx=0.5,fy=0.5)\n",
    "\n",
    "# explixitly scalling size of images with defined dimentions\n",
    "img_stretch = cv2.resize(img,(600,600))\n",
    "\n",
    "# nearest pizel value is taken here\n",
    "img_stretch_near = cv2.resize(img,(600,600), interpolation = cv2.INTER_NEAREST)\n",
    "\n",
    "cv2.imshow('Original',img)\n",
    "cv2.imshow('half',img_half)\n",
    "cv2.imshow('stretch',img_stretch)\n",
    "cv2.imshow('stretch_near',img_stretch_near)\n",
    "\n",
    "cv2.waitKey(0)\n",
    "cv2.destroyAllWindows()"
   ]
  },
  {
   "cell_type": "code",
   "execution_count": 9,
   "id": "c0861adf",
   "metadata": {},
   "outputs": [],
   "source": [
    "# rotation\n",
    "\n",
    "\n",
    "M = cv2.getRotationMatrix2D((0,0), -30,1)\n",
    "# (0,0) is the loaction where we want to strat rotation, -30 degre of rotation\n",
    "# M is rotation matrix, we can use it for rotation\n",
    "\n",
    "rotated = cv2.warpAffine(img,M, (img.shape[1], img.shape[0]))\n",
    "cv2.imshow('rotated',rotated)\n",
    "\n",
    "cv2.waitKey(0)\n",
    "cv2.destroyAllWindows()"
   ]
  },
  {
   "cell_type": "code",
   "execution_count": null,
   "id": "cdf8f3d7",
   "metadata": {},
   "outputs": [],
   "source": []
  }
 ],
 "metadata": {
  "kernelspec": {
   "display_name": "Python 3 (ipykernel)",
   "language": "python",
   "name": "python3"
  },
  "language_info": {
   "codemirror_mode": {
    "name": "ipython",
    "version": 3
   },
   "file_extension": ".py",
   "mimetype": "text/x-python",
   "name": "python",
   "nbconvert_exporter": "python",
   "pygments_lexer": "ipython3",
   "version": "3.9.13"
  }
 },
 "nbformat": 4,
 "nbformat_minor": 5
}
