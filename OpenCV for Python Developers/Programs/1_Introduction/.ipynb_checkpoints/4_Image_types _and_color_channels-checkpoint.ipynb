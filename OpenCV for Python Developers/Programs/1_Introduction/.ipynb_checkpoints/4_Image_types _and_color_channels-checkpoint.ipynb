{
 "cells": [
  {
   "cell_type": "code",
   "execution_count": 1,
   "id": "fdf3f053",
   "metadata": {},
   "outputs": [],
   "source": [
    "import numpy as np\n",
    "import cv2"
   ]
  },
  {
   "cell_type": "code",
   "execution_count": 5,
   "id": "95bb95bb",
   "metadata": {},
   "outputs": [],
   "source": [
    "img = cv2.imread(\"cot.jpg\", 1)"
   ]
  },
  {
   "cell_type": "code",
   "execution_count": 6,
   "id": "ef4620a5",
   "metadata": {},
   "outputs": [
    {
     "name": "stdout",
     "output_type": "stream",
     "text": [
      "(711, 400, 3)\n"
     ]
    }
   ],
   "source": [
    "cv2.imshow(\"Image\",img)\n",
    "cv2.moveWindow(\"Image\",0,0)   #this keeps the window on top left hand\n",
    "print(img.shape)\n",
    "height,width,channels = img.shape\n",
    "\n",
    "cv2.waitKey(0)\n",
    "cv2.destroyAllWindows()"
   ]
  },
  {
   "cell_type": "code",
   "execution_count": null,
   "id": "40f3c1e2",
   "metadata": {},
   "outputs": [],
   "source": []
  },
  {
   "cell_type": "code",
   "execution_count": 12,
   "id": "e690b066",
   "metadata": {},
   "outputs": [
    {
     "name": "stdout",
     "output_type": "stream",
     "text": [
      "(711, 400, 3)\n"
     ]
    }
   ],
   "source": [
    "cv2.imshow(\"Image\",img)\n",
    "cv2.moveWindow(\"Image\",0,0)\n",
    "print(img.shape)\n",
    "height,width,channels = img.shape\n",
    "\n",
    "# spliting pixels of b,g,r from img\n",
    "b,g,r = cv2.split(img)\n",
    "\n",
    "# creates an empty array of image\n",
    "rgb_split = np.empty([height,width*3,3],'uint8')\n",
    "\n",
    "# creating new image with all pixels side by side\n",
    "rgb_split[:,0:width] = cv2.merge([b,b,b])\n",
    "rgb_split[:, width:width*2] = cv2.merge([g,g,g])\n",
    "rgb_split[:, width*2:width*3] = cv2.merge([r,r,r])\n",
    "\n",
    "cv2.imshow(\"Channels\",rgb_split)\n",
    "cv2.moveWindow(\"Channels\",width,0)\n",
    "\n",
    "\n",
    "# hue saturation value space\n",
    "hsv = cv2.cvtColor(img,cv2.COLOR_BGR2HSV)\n",
    "h,s,v = cv2.split(hsv)\n",
    "hsv_split = np.concatenate((h,s,v),axis=1)  #this does the same job as rgb_split 3 lines\n",
    "\n",
    "cv2.imshow(\"HSV\",hsv_split)\n",
    "\n",
    "\n",
    "cv2.waitKey(0)\n",
    "cv2.destroyAllWindows()"
   ]
  },
  {
   "cell_type": "code",
   "execution_count": null,
   "id": "4f56eeeb",
   "metadata": {},
   "outputs": [],
   "source": []
  },
  {
   "cell_type": "code",
   "execution_count": null,
   "id": "88752d07",
   "metadata": {},
   "outputs": [],
   "source": []
  }
 ],
 "metadata": {
  "kernelspec": {
   "display_name": "Python 3 (ipykernel)",
   "language": "python",
   "name": "python3"
  },
  "language_info": {
   "codemirror_mode": {
    "name": "ipython",
    "version": 3
   },
   "file_extension": ".py",
   "mimetype": "text/x-python",
   "name": "python",
   "nbconvert_exporter": "python",
   "pygments_lexer": "ipython3",
   "version": "3.9.13"
  }
 },
 "nbformat": 4,
 "nbformat_minor": 5
}
