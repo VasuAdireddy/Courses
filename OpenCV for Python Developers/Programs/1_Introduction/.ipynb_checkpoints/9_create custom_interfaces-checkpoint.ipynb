{
 "cells": [
  {
   "cell_type": "code",
   "execution_count": 1,
   "id": "7cd5ca4e",
   "metadata": {},
   "outputs": [],
   "source": [
    "import numpy as np\n",
    "import cv2"
   ]
  },
  {
   "cell_type": "code",
   "execution_count": 5,
   "id": "d720a14e",
   "metadata": {},
   "outputs": [],
   "source": [
    "cap = cv2.VideoCapture(0)\n",
    "\n",
    "color = (0,0,255)\n",
    "line_width = 3\n",
    "radius = 100\n",
    "point = (0,0)\n",
    "\n",
    "while 1:\n",
    "    ret,frame = cap.read()\n",
    "    \n",
    "    frame= cv2.resize(frame, (0,0), fx=0.5,fy=0.5)\n",
    "    cv2.circle(frame, point, radius, line_width)\n",
    "    cv2.imshow(\"Frame\",frame)\n",
    "    \n",
    "    ch = cv2.waitKey(1)\n",
    "    if ch &0xFF == ord('q'):\n",
    "        break\n",
    "\n",
    "cap.release()\n",
    "cv2.destroyAllWindows()"
   ]
  },
  {
   "cell_type": "code",
   "execution_count": null,
   "id": "c5f394c2",
   "metadata": {},
   "outputs": [],
   "source": []
  },
  {
   "cell_type": "code",
   "execution_count": null,
   "id": "2685cfaa",
   "metadata": {},
   "outputs": [],
   "source": []
  },
  {
   "cell_type": "code",
   "execution_count": 7,
   "id": "c7ab06c2",
   "metadata": {},
   "outputs": [
    {
     "name": "stdout",
     "output_type": "stream",
     "text": [
      "Pressed 210 115\n",
      "Pressed 70 131\n",
      "Pressed 220 155\n",
      "Pressed 208 223\n",
      "Pressed 176 39\n"
     ]
    }
   ],
   "source": [
    "cap = cv2.VideoCapture(0)\n",
    "\n",
    "color = (0,0,255)\n",
    "line_width = 3\n",
    "radius = 100\n",
    "point = (0,0)\n",
    "\n",
    "def click(event, x, y, flags, param):\n",
    "    global point, pressed\n",
    "    if event == cv2.EVENT_LBUTTONDOWN:\n",
    "        print(\"Pressed\",x,y)\n",
    "        point = (x,y)\n",
    "\n",
    "cv2.namedWindow(\"Frame\")\n",
    "cv2.setMouseCallback(\"Frame\",click)\n",
    "\n",
    "while 1:\n",
    "    ret,frame = cap.read()\n",
    "    \n",
    "    #frame= cv2.resize(frame, (0,0), fx=0.5,fy=0.5)\n",
    "    cv2.circle(frame, point, radius, line_width)\n",
    "    cv2.imshow(\"Frame\",frame)\n",
    "    \n",
    "    ch = cv2.waitKey(1)\n",
    "    if ch &0xFF == ord('q'):\n",
    "        break\n",
    "\n",
    "cap.release()\n",
    "cv2.destroyAllWindows()"
   ]
  },
  {
   "cell_type": "code",
   "execution_count": null,
   "id": "98262bfa",
   "metadata": {},
   "outputs": [],
   "source": []
  }
 ],
 "metadata": {
  "kernelspec": {
   "display_name": "Python 3 (ipykernel)",
   "language": "python",
   "name": "python3"
  },
  "language_info": {
   "codemirror_mode": {
    "name": "ipython",
    "version": 3
   },
   "file_extension": ".py",
   "mimetype": "text/x-python",
   "name": "python",
   "nbconvert_exporter": "python",
   "pygments_lexer": "ipython3",
   "version": "3.9.13"
  }
 },
 "nbformat": 4,
 "nbformat_minor": 5
}
