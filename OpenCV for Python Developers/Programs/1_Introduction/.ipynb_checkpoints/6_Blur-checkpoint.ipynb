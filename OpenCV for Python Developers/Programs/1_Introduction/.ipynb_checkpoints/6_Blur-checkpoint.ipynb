{
 "cells": [
  {
   "cell_type": "code",
   "execution_count": 1,
   "id": "35a6b269",
   "metadata": {},
   "outputs": [],
   "source": [
    "import numpy as np\n",
    "import cv2"
   ]
  },
  {
   "cell_type": "code",
   "execution_count": 4,
   "id": "16fe3d44",
   "metadata": {},
   "outputs": [],
   "source": [
    "img = cv2.imread(r'D:\\Courses\\New folder\\Courses\\OpenCV for Python Developers\\Ex_Files_OpenCV_Python_Developers\\Exercise Files\\Ch02\\02_06 Begin\\thresh.jpg')"
   ]
  },
  {
   "cell_type": "code",
   "execution_count": 5,
   "id": "bac9c37f",
   "metadata": {},
   "outputs": [],
   "source": [
    "cv2.imshow(\"Original\",img)\n",
    "\n",
    "blur = cv2.GaussianBlur(img, (5,55),0)  #these values all have to be odd,\n",
    "#above numbers is how much we want to blur on each axis, above we are blurring on x and y\n",
    "cv2.imshow(\"Gaussian\",blur)\n",
    "\n",
    "cv2.waitKey(0)\n",
    "cv2.destroyAllWindows()"
   ]
  },
  {
   "cell_type": "code",
   "execution_count": 6,
   "id": "29882b3e",
   "metadata": {},
   "outputs": [],
   "source": [
    "#  in above image, we can see it has blurred vertically more than \n",
    "#  horizontally"
   ]
  },
  {
   "cell_type": "code",
   "execution_count": null,
   "id": "d1e19c39",
   "metadata": {},
   "outputs": [],
   "source": []
  },
  {
   "cell_type": "code",
   "execution_count": null,
   "id": "2312ea50",
   "metadata": {},
   "outputs": [],
   "source": [
    "'''\n",
    "Dilation and erosion filter\n",
    "These work by sliding a small square templete across the image\n",
    "This square templete is called kernel.\n",
    "Kernel defines where and how we mark filters.\n",
    "Dilation filter turns background/black pixels into white\n",
    "Erosion filter turns white pixels into black\n",
    "'''"
   ]
  },
  {
   "cell_type": "code",
   "execution_count": 7,
   "id": "162c2062",
   "metadata": {},
   "outputs": [],
   "source": [
    "cv2.imshow(\"Original\",img)\n",
    "\n",
    "blur = cv2.GaussianBlur(img, (5,55),0)\n",
    "cv2.imshow(\"Gaussian\",blur)\n",
    "\n",
    "kernel = np.ones((5,5),'uint8')\n",
    "\n",
    "dilate = cv2.dilate(img,kernel,iterations=1)\n",
    "erode = cv2.erode(img,kernel,iterations=1)\n",
    "\n",
    "cv2.imshow(\"dilate\",dilate)\n",
    "cv2.imshow('erode',erode)\n",
    "\n",
    "cv2.waitKey(0)\n",
    "cv2.destroyAllWindows()"
   ]
  },
  {
   "cell_type": "code",
   "execution_count": null,
   "id": "4c4930dc",
   "metadata": {},
   "outputs": [],
   "source": [
    "'''\n",
    "We can in output that where ever there are small white dots, dilute made them brighter white\n",
    "whereas erode filter made black spots on image more darker \n",
    "\n",
    "These filters eventually used to remove noises\n",
    "'''"
   ]
  }
 ],
 "metadata": {
  "kernelspec": {
   "display_name": "Python 3 (ipykernel)",
   "language": "python",
   "name": "python3"
  },
  "language_info": {
   "codemirror_mode": {
    "name": "ipython",
    "version": 3
   },
   "file_extension": ".py",
   "mimetype": "text/x-python",
   "name": "python",
   "nbconvert_exporter": "python",
   "pygments_lexer": "ipython3",
   "version": "3.9.13"
  }
 },
 "nbformat": 4,
 "nbformat_minor": 5
}
