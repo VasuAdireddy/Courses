{
 "cells": [
  {
   "cell_type": "code",
   "execution_count": 1,
   "id": "3fe31fcb",
   "metadata": {},
   "outputs": [],
   "source": [
    "import numpy as np\n",
    "import cv2"
   ]
  },
  {
   "cell_type": "code",
   "execution_count": 3,
   "id": "712aa62a",
   "metadata": {},
   "outputs": [],
   "source": [
    "black = np.zeros([150,200,1], 'uint8')"
   ]
  },
  {
   "cell_type": "code",
   "execution_count": 11,
   "id": "f8fc93d4",
   "metadata": {},
   "outputs": [
    {
     "name": "stdout",
     "output_type": "stream",
     "text": [
      "[0]\n"
     ]
    }
   ],
   "source": [
    "cv2.imshow(\"Black\",black)\n",
    "print(black[0,0,:])\n",
    "\n",
    "# below two lines make sure, we can an image in new window\n",
    "cv2.waitKey(0)\n",
    "cv2.destroyAllWindows()"
   ]
  },
  {
   "cell_type": "code",
   "execution_count": 9,
   "id": "7b4cfeef",
   "metadata": {},
   "outputs": [],
   "source": [
    "ones = np.ones([150,200,3],'uint8')"
   ]
  },
  {
   "cell_type": "code",
   "execution_count": 17,
   "id": "d971e24d",
   "metadata": {},
   "outputs": [
    {
     "name": "stdout",
     "output_type": "stream",
     "text": [
      "[1 1 1]\n"
     ]
    }
   ],
   "source": [
    "cv2.imshow(\"Ones\",ones)\n",
    "print(ones[0,0,:])\n",
    "\n",
    "cv2.waitKey(0)\n",
    "cv2.destroyAllWindows()"
   ]
  },
  {
   "cell_type": "code",
   "execution_count": null,
   "id": "196d38b2",
   "metadata": {},
   "outputs": [],
   "source": []
  },
  {
   "cell_type": "code",
   "execution_count": 13,
   "id": "fd6a4a31",
   "metadata": {},
   "outputs": [],
   "source": [
    "white = np.ones([150,200,3],'uint16')\n",
    "white *= (2**16-1)  # this is for using maximum pixel values"
   ]
  },
  {
   "cell_type": "code",
   "execution_count": 16,
   "id": "e2524a45",
   "metadata": {},
   "outputs": [
    {
     "name": "stdout",
     "output_type": "stream",
     "text": [
      "[65535 65535 65535]\n"
     ]
    }
   ],
   "source": [
    "cv2.imshow(\"White\",white)\n",
    "print(white[0,0,:])\n",
    "\n",
    "# below two lines make sure, we can an image in new window\n",
    "cv2.waitKey(0)\n",
    "cv2.destroyAllWindows()"
   ]
  },
  {
   "cell_type": "code",
   "execution_count": null,
   "id": "dc4457c6",
   "metadata": {},
   "outputs": [],
   "source": []
  },
  {
   "cell_type": "code",
   "execution_count": 18,
   "id": "ff062366",
   "metadata": {},
   "outputs": [],
   "source": [
    "color = ones.copy()\n",
    "color[:,:] = (255,0,0)"
   ]
  },
  {
   "cell_type": "code",
   "execution_count": 19,
   "id": "f5fb022d",
   "metadata": {},
   "outputs": [
    {
     "name": "stdout",
     "output_type": "stream",
     "text": [
      "[255   0   0]\n"
     ]
    }
   ],
   "source": [
    "cv2.imshow(\"Blue\",color)\n",
    "print(color[0,0,:])\n",
    "\n",
    "# below two lines make sure, we can an image in new window\n",
    "cv2.waitKey(0)\n",
    "cv2.destroyAllWindows()"
   ]
  },
  {
   "cell_type": "code",
   "execution_count": null,
   "id": "7cacfccc",
   "metadata": {},
   "outputs": [],
   "source": []
  },
  {
   "cell_type": "code",
   "execution_count": 21,
   "id": "b4265b6a",
   "metadata": {},
   "outputs": [
    {
     "name": "stdout",
     "output_type": "stream",
     "text": [
      "[0]\n",
      "[1 1 1]\n",
      "[65535 65535 65535]\n",
      "[255   0   0]\n"
     ]
    }
   ],
   "source": [
    "# shows all images at once\n",
    "\n",
    "cv2.imshow(\"Black\",black)\n",
    "print(black[0,0,:])\n",
    "\n",
    "cv2.imshow(\"Ones\",ones)\n",
    "print(ones[0,0,:])\n",
    "\n",
    "cv2.imshow(\"White\",white)\n",
    "print(white[0,0,:])\n",
    "\n",
    "cv2.imshow(\"Blue\",color)\n",
    "print(color[0,0,:])\n",
    "\n",
    "cv2.waitKey(0)\n",
    "cv2.destroyAllWindows()"
   ]
  },
  {
   "cell_type": "code",
   "execution_count": null,
   "id": "8ac824af",
   "metadata": {},
   "outputs": [],
   "source": []
  }
 ],
 "metadata": {
  "kernelspec": {
   "display_name": "Python 3 (ipykernel)",
   "language": "python",
   "name": "python3"
  },
  "language_info": {
   "codemirror_mode": {
    "name": "ipython",
    "version": 3
   },
   "file_extension": ".py",
   "mimetype": "text/x-python",
   "name": "python",
   "nbconvert_exporter": "python",
   "pygments_lexer": "ipython3",
   "version": "3.9.13"
  }
 },
 "nbformat": 4,
 "nbformat_minor": 5
}
