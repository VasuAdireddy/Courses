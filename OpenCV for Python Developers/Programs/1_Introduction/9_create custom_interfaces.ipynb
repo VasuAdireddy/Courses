{
 "cells": [
  {
   "cell_type": "code",
   "execution_count": 1,
   "id": "55e8915c",
   "metadata": {},
   "outputs": [],
   "source": [
    "import numpy as np\n",
    "import cv2"
   ]
  },
  {
   "cell_type": "code",
   "execution_count": 5,
   "id": "f7b1464f",
   "metadata": {},
   "outputs": [],
   "source": [
    "cap = cv2.VideoCapture(0)\n",
    "\n",
    "color = (0,0,255)\n",
    "line_width = 3\n",
    "radius = 100\n",
    "point = (0,0)\n",
    "\n",
    "while 1:\n",
    "    ret,frame = cap.read()\n",
    "    \n",
    "    frame= cv2.resize(frame, (0,0), fx=0.5,fy=0.5)\n",
    "    cv2.circle(frame, point, radius, line_width)\n",
    "    cv2.imshow(\"Frame\",frame)\n",
    "    \n",
    "    ch = cv2.waitKey(1)\n",
    "    if ch &0xFF == ord('q'):\n",
    "        break\n",
    "\n",
    "cap.release()\n",
    "cv2.destroyAllWindows()"
   ]
  },
  {
   "cell_type": "code",
   "execution_count": null,
   "id": "f7b42a07",
   "metadata": {},
   "outputs": [],
   "source": []
  },
  {
   "cell_type": "code",
   "execution_count": null,
   "id": "bc5ed8ff",
   "metadata": {},
   "outputs": [],
   "source": []
  },
  {
   "cell_type": "code",
   "execution_count": 8,
   "id": "ae70458a",
   "metadata": {},
   "outputs": [
    {
     "name": "stdout",
     "output_type": "stream",
     "text": [
      "Pressed 176 119\n",
      "Pressed 410 133\n",
      "Pressed 497 311\n",
      "Pressed 336 320\n",
      "Pressed 381 351\n",
      "Pressed 183 333\n",
      "Pressed 180 120\n",
      "Pressed 421 116\n",
      "Pressed 483 350\n",
      "Pressed 346 261\n"
     ]
    }
   ],
   "source": [
    "cap = cv2.VideoCapture(0)\n",
    "\n",
    "color = (0,0,255)\n",
    "line_width = 3\n",
    "radius = 100\n",
    "point = (0,0)\n",
    "\n",
    "def click(event, x, y, flags, param):\n",
    "    global point, pressed\n",
    "    if event == cv2.EVENT_LBUTTONDOWN:\n",
    "        print(\"Pressed\",x,y)\n",
    "        point = (x,y)\n",
    "\n",
    "cv2.namedWindow(\"Frame\")\n",
    "cv2.setMouseCallback(\"Frame\",click)\n",
    "\n",
    "while 1:\n",
    "    ret,frame = cap.read()\n",
    "    \n",
    "    #frame= cv2.resize(frame, (0,0), fx=0.5,fy=0.5)\n",
    "    cv2.circle(frame, point, radius, line_width)\n",
    "    cv2.imshow(\"Frame\",frame)\n",
    "    \n",
    "    ch = cv2.waitKey(1)\n",
    "    if ch &0xFF == ord('q'):\n",
    "        break\n",
    "\n",
    "cap.release()\n",
    "cv2.destroyAllWindows()"
   ]
  },
  {
   "cell_type": "code",
   "execution_count": null,
   "id": "9d051e62",
   "metadata": {},
   "outputs": [],
   "source": []
  }
 ],
 "metadata": {
  "kernelspec": {
   "display_name": "Python 3 (ipykernel)",
   "language": "python",
   "name": "python3"
  },
  "language_info": {
   "codemirror_mode": {
    "name": "ipython",
    "version": 3
   },
   "file_extension": ".py",
   "mimetype": "text/x-python",
   "name": "python",
   "nbconvert_exporter": "python",
   "pygments_lexer": "ipython3",
   "version": "3.9.13"
  }
 },
 "nbformat": 4,
 "nbformat_minor": 5
}
