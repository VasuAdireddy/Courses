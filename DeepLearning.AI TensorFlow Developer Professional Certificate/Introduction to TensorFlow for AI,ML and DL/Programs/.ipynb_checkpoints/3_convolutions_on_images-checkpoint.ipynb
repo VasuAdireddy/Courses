{
 "cells": [
  {
   "cell_type": "code",
   "execution_count": 22,
   "id": "aae36d68",
   "metadata": {},
   "outputs": [],
   "source": [
    "import tensorflow as tf\n",
    "import keras\n",
    "import numpy as np"
   ]
  },
  {
   "cell_type": "code",
   "execution_count": 23,
   "id": "fc3d173d",
   "metadata": {},
   "outputs": [],
   "source": [
    "fmnist = tf.keras.datasets.fashion_mnist\n",
    "(x1,y1),(x2,y2)=fmnist.load_data() \n",
    "# x1 -> training images; y1 -> training labesl; x2 -> test images; y2 -> test labels\n",
    "\n",
    "# Normalizing the images\n",
    "x1=x1/255.0\n",
    "x2=x2/255.0"
   ]
  },
  {
   "cell_type": "code",
   "execution_count": 24,
   "id": "666bd9c8",
   "metadata": {},
   "outputs": [],
   "source": [
    "# concolution increases accuracy"
   ]
  },
  {
   "cell_type": "code",
   "execution_count": 25,
   "id": "e19f065f",
   "metadata": {},
   "outputs": [
    {
     "name": "stdout",
     "output_type": "stream",
     "text": [
      "Model Training\n",
      "Epoch 1/5\n",
      "1875/1875 [==============================] - 1s 643us/step - loss: 0.4968 - accuracy: 0.8244\n",
      "Epoch 2/5\n",
      "1875/1875 [==============================] - 1s 649us/step - loss: 0.3761 - accuracy: 0.8646\n",
      "Epoch 3/5\n",
      "1875/1875 [==============================] - 1s 610us/step - loss: 0.3394 - accuracy: 0.8767\n",
      "Epoch 4/5\n",
      "1875/1875 [==============================] - 1s 655us/step - loss: 0.3149 - accuracy: 0.8845\n",
      "Epoch 5/5\n",
      "1875/1875 [==============================] - 1s 668us/step - loss: 0.2970 - accuracy: 0.8912\n",
      "Model Evaluation\n",
      "313/313 [==============================] - 0s 477us/step - loss: 0.3671 - accuracy: 0.8671\n",
      "Model Summary\n",
      "Model: \"sequential_12\"\n",
      "_________________________________________________________________\n",
      "Layer (type)                 Output Shape              Param #   \n",
      "=================================================================\n",
      "flatten_12 (Flatten)         (None, 784)               0         \n",
      "_________________________________________________________________\n",
      "dense_24 (Dense)             (None, 128)               100480    \n",
      "_________________________________________________________________\n",
      "dense_25 (Dense)             (None, 10)                1290      \n",
      "=================================================================\n",
      "Total params: 101,770\n",
      "Trainable params: 101,770\n",
      "Non-trainable params: 0\n",
      "_________________________________________________________________\n"
     ]
    }
   ],
   "source": [
    "# below model is without convolution filters\n",
    "\n",
    "model = keras.Sequential([\n",
    "    keras.layers.Flatten(),\n",
    "    keras.layers.Dense(128, activation=tf.nn.relu),\n",
    "    keras.layers.Dense(10, activation=tf.nn.softmax)\n",
    "])\n",
    "\n",
    "model.compile(optimizer = 'adam',loss = 'sparse_categorical_crossentropy',metrics=['accuracy'])\n",
    "\n",
    "print(\"Model Training\")\n",
    "model.fit(x1, y1, epochs=5)\n",
    "\n",
    "print(\"Model Evaluation\")\n",
    "test_loss=model.evaluate(x2, y2)\n",
    "\n",
    "print(\"Model Summary\")\n",
    "model.summary()"
   ]
  },
  {
   "cell_type": "code",
   "execution_count": 26,
   "id": "ce79e072",
   "metadata": {},
   "outputs": [
    {
     "name": "stdout",
     "output_type": "stream",
     "text": [
      "Model Training\n",
      "Epoch 1/5\n",
      "1875/1875 [==============================] - 38s 20ms/step - loss: 0.4480 - accuracy: 0.8377\n",
      "Epoch 2/5\n",
      "1875/1875 [==============================] - 39s 21ms/step - loss: 0.2996 - accuracy: 0.8900\n",
      "Epoch 3/5\n",
      "1875/1875 [==============================] - 41s 22ms/step - loss: 0.2542 - accuracy: 0.9071\n",
      "Epoch 4/5\n",
      "1875/1875 [==============================] - 35s 18ms/step - loss: 0.2202 - accuracy: 0.9173\n",
      "Epoch 5/5\n",
      "1875/1875 [==============================] - 36s 19ms/step - loss: 0.1936 - accuracy: 0.9275\n"
     ]
    },
    {
     "data": {
      "text/plain": [
       "<tensorflow.python.keras.callbacks.History at 0x28ace80a0c8>"
      ]
     },
     "execution_count": 26,
     "metadata": {},
     "output_type": "execute_result"
    }
   ],
   "source": [
    "# model with convolution layers\n",
    "\n",
    "\n",
    "# Reshape the images to add an extra dimension\n",
    "x1=np.reshape(x1,(-1,28,28,1))\n",
    "\n",
    "model = tf.keras.models.Sequential([\n",
    "    \n",
    "    # below are concolution and maxpolling(extract max valued pixel out of 4 pixels) layers\n",
    "    tf.keras.layers.Conv2D(64,(3,3), activation='relu',input_shape=(28,28,1)),\n",
    "    tf.keras.layers.MaxPooling2D(2,2),\n",
    "    tf.keras.layers.Conv2D(64, (3,3),activation='relu'),\n",
    "    tf.keras.layers.MaxPooling2D(2,2),\n",
    "    \n",
    "    # same layers for input,neurons and output\n",
    "    keras.layers.Flatten(),\n",
    "    keras.layers.Dense(128, activation=tf.nn.relu),\n",
    "    keras.layers.Dense(10, activation=tf.nn.softmax)\n",
    "])\n",
    "\n",
    "model.compile(optimizer='adam',loss='sparse_categorical_crossentropy', metrics=['accuracy'])\n",
    "\n",
    "print('Model Training')\n",
    "model.fit(x1,y1,epochs=5)\n"
   ]
  },
  {
   "cell_type": "code",
   "execution_count": 27,
   "id": "af214568",
   "metadata": {},
   "outputs": [
    {
     "name": "stdout",
     "output_type": "stream",
     "text": [
      "Model Evaluation\n",
      "313/313 [==============================] - 1s 4ms/step - loss: 0.2637 - accuracy: 0.9061\n",
      "Model Summary\n",
      "Model: \"sequential_13\"\n",
      "_________________________________________________________________\n",
      "Layer (type)                 Output Shape              Param #   \n",
      "=================================================================\n",
      "conv2d_14 (Conv2D)           (None, 26, 26, 64)        640       \n",
      "_________________________________________________________________\n",
      "max_pooling2d_14 (MaxPooling (None, 13, 13, 64)        0         \n",
      "_________________________________________________________________\n",
      "conv2d_15 (Conv2D)           (None, 11, 11, 64)        36928     \n",
      "_________________________________________________________________\n",
      "max_pooling2d_15 (MaxPooling (None, 5, 5, 64)          0         \n",
      "_________________________________________________________________\n",
      "flatten_13 (Flatten)         (None, 1600)              0         \n",
      "_________________________________________________________________\n",
      "dense_26 (Dense)             (None, 128)               204928    \n",
      "_________________________________________________________________\n",
      "dense_27 (Dense)             (None, 10)                1290      \n",
      "=================================================================\n",
      "Total params: 243,786\n",
      "Trainable params: 243,786\n",
      "Non-trainable params: 0\n",
      "_________________________________________________________________\n"
     ]
    }
   ],
   "source": [
    "x2=np.reshape(x2,(-1,28,28,1))\n",
    "print('Model Evaluation')\n",
    "model.evaluate(x2,y2)\n",
    "\n",
    "print('Model Summary')\n",
    "model.summary()"
   ]
  },
  {
   "cell_type": "code",
   "execution_count": 28,
   "id": "21a36e2f",
   "metadata": {},
   "outputs": [],
   "source": [
    "# as you can see \n",
    "# in case of convolution, the accuracy is more and loss is less compared to normal model"
   ]
  },
  {
   "cell_type": "code",
   "execution_count": 29,
   "id": "1499340c",
   "metadata": {},
   "outputs": [],
   "source": [
    "# colab link\n",
    "# https://colab.research.google.com/github/https-deeplearning-ai/tensorflow-1-public/blob/master/C1/W3/ungraded_labs/C1_W3_Lab_1_improving_accuracy_using_convolutions.ipynb#scrollTo=C0tFgT1MMKi6"
   ]
  },
  {
   "cell_type": "code",
   "execution_count": null,
   "id": "6e2fd46d",
   "metadata": {},
   "outputs": [],
   "source": []
  }
 ],
 "metadata": {
  "kernelspec": {
   "display_name": "Python 3 (ipykernel)",
   "language": "python",
   "name": "python3"
  },
  "language_info": {
   "codemirror_mode": {
    "name": "ipython",
    "version": 3
   },
   "file_extension": ".py",
   "mimetype": "text/x-python",
   "name": "python",
   "nbconvert_exporter": "python",
   "pygments_lexer": "ipython3",
   "version": "3.7.15"
  }
 },
 "nbformat": 4,
 "nbformat_minor": 5
}
