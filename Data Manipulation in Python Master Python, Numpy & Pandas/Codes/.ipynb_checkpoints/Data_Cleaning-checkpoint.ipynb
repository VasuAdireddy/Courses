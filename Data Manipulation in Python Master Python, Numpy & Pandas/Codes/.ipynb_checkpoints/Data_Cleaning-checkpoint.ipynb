{
 "cells": [
  {
   "cell_type": "code",
   "execution_count": 1,
   "id": "f8eb0680",
   "metadata": {},
   "outputs": [],
   "source": [
    "import numpy as np\n",
    "import pandas as pd"
   ]
  },
  {
   "cell_type": "markdown",
   "id": "b2f4f5b3",
   "metadata": {},
   "source": [
    "## Median-Based Anamoly Detection"
   ]
  },
  {
   "cell_type": "code",
   "execution_count": 2,
   "id": "49b188b7",
   "metadata": {},
   "outputs": [],
   "source": [
    "# Median Based Anomaly Detection\n",
    "# we take absloute difference between every value and the median, if that is greater than reasonable threshold, we consider it as anaomoly"
   ]
  },
  {
   "cell_type": "code",
   "execution_count": 3,
   "id": "5ad51e68",
   "metadata": {},
   "outputs": [
    {
     "name": "stdout",
     "output_type": "stream",
     "text": [
      "[4.5]\n"
     ]
    }
   ],
   "source": [
    "x=pd.Series([2.1,2.3,2.2,4.5,2.4])\n",
    "median = np.median(x)\n",
    "threshold = 2  #this is an assumption\n",
    "outliers = []\n",
    "for i in x:\n",
    "    if abs(i-median) > threshold:\n",
    "        outliers.append(i)\n",
    "print(outliers)"
   ]
  },
  {
   "cell_type": "code",
   "execution_count": 4,
   "id": "95ffb66f",
   "metadata": {},
   "outputs": [],
   "source": [
    "# in above we found the outlier/anamoly"
   ]
  },
  {
   "cell_type": "code",
   "execution_count": null,
   "id": "d4355858",
   "metadata": {},
   "outputs": [],
   "source": []
  },
  {
   "cell_type": "markdown",
   "id": "2f17fec9",
   "metadata": {},
   "source": [
    "## Mean-Based Anamoly Detection"
   ]
  },
  {
   "cell_type": "code",
   "execution_count": 6,
   "id": "fd2b0918",
   "metadata": {},
   "outputs": [],
   "source": [
    "# condition for NOT anomoly is:\n",
    "# (mean-std) <= value <= (mean+std)\n",
    "\n",
    "# if the value is not in that range, then it is considered as an anomoly\n",
    "# std is standard deviation"
   ]
  },
  {
   "cell_type": "code",
   "execution_count": 7,
   "id": "9b139cd7",
   "metadata": {},
   "outputs": [
    {
     "data": {
      "text/plain": [
       "[4.5]"
      ]
     },
     "execution_count": 7,
     "metadata": {},
     "output_type": "execute_result"
    }
   ],
   "source": [
    "mean = np.mean(x)\n",
    "std = np.std(x)\n",
    "outliers= []\n",
    "for i in x:\n",
    "    if (i < mean-std) or (i > mean+std):\n",
    "        outliers.append(i)\n",
    "outliers"
   ]
  },
  {
   "cell_type": "markdown",
   "id": "22614d65",
   "metadata": {},
   "source": []
  },
  {
   "cell_type": "code",
   "execution_count": null,
   "id": "b72589f1",
   "metadata": {},
   "outputs": [],
   "source": []
  },
  {
   "cell_type": "markdown",
   "id": "aa827590",
   "metadata": {},
   "source": [
    "## Z-score-based Anamoly Detection"
   ]
  },
  {
   "cell_type": "code",
   "execution_count": 8,
   "id": "8bcace46",
   "metadata": {},
   "outputs": [],
   "source": [
    "# formula\n",
    "# z=(value-mean)/std\n",
    "# if z is greater than a reasonable treshold, then it is said to be a outlier"
   ]
  },
  {
   "cell_type": "code",
   "execution_count": 18,
   "id": "8fb1224b",
   "metadata": {},
   "outputs": [
    {
     "data": {
      "text/plain": [
       "[4.5]"
      ]
     },
     "execution_count": 18,
     "metadata": {},
     "output_type": "execute_result"
    }
   ],
   "source": [
    "outliers=[]\n",
    "for i in x:\n",
    "    z = (i-mean)/std\n",
    "    if z>1.5:\n",
    "        outliers.append(i)\n",
    "outliers"
   ]
  },
  {
   "cell_type": "code",
   "execution_count": null,
   "id": "62dcd106",
   "metadata": {},
   "outputs": [],
   "source": []
  },
  {
   "cell_type": "markdown",
   "id": "65aa1389",
   "metadata": {},
   "source": [
    "## Interquartile Range for Anomaly Detection"
   ]
  },
  {
   "cell_type": "code",
   "execution_count": 20,
   "id": "f7cfb5b0",
   "metadata": {},
   "outputs": [],
   "source": [
    "# A quartile divides the sorted data into 3 points and 4 intervals.\n",
    "# first quartile is at 25% point of our data\n",
    "# second is at 50%\n",
    "# third is at 75%\n",
    "# Interquartile is the range between the 3rd point and 1st point\n",
    "# IRQ = Q3-Q1\n",
    "\n",
    "# any value < (Q1-1.5*IQR) or value > (Q3+1.5*IQR) is considered as anamoly"
   ]
  },
  {
   "cell_type": "code",
   "execution_count": 21,
   "id": "a71c60af",
   "metadata": {},
   "outputs": [
    {
     "data": {
      "text/plain": [
       "[4.5]"
      ]
     },
     "execution_count": 21,
     "metadata": {},
     "output_type": "execute_result"
    }
   ],
   "source": [
    "Q1,Q3 = np.percentile(x,[25,75])  # this will give the values at 25% and 75%\n",
    "IQR = Q3-Q1\n",
    "outliers=[]\n",
    "for i in x:\n",
    "    if i < (Q1 - 1.5 * IQR) or i > (Q3 + 1.5 * IQR):\n",
    "        outliers.append(i)\n",
    "outliers"
   ]
  },
  {
   "cell_type": "code",
   "execution_count": null,
   "id": "1bf9a911",
   "metadata": {},
   "outputs": [],
   "source": []
  }
 ],
 "metadata": {
  "kernelspec": {
   "display_name": "Python 3 (ipykernel)",
   "language": "python",
   "name": "python3"
  },
  "language_info": {
   "codemirror_mode": {
    "name": "ipython",
    "version": 3
   },
   "file_extension": ".py",
   "mimetype": "text/x-python",
   "name": "python",
   "nbconvert_exporter": "python",
   "pygments_lexer": "ipython3",
   "version": "3.9.13"
  }
 },
 "nbformat": 4,
 "nbformat_minor": 5
}
