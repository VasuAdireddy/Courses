{
 "cells": [
  {
   "cell_type": "code",
   "execution_count": 1,
   "id": "1d37840e",
   "metadata": {},
   "outputs": [],
   "source": [
    "import numpy as np\n",
    "import pandas as pd"
   ]
  },
  {
   "cell_type": "markdown",
   "id": "c13c7ccf",
   "metadata": {},
   "source": [
    "## Median-Based Anamoly Detection"
   ]
  },
  {
   "cell_type": "code",
   "execution_count": 2,
   "id": "650bb636",
   "metadata": {},
   "outputs": [],
   "source": [
    "# Median Based Anomaly Detection\n",
    "# we take absloute difference between every value and the median, if that is greater than reasonable threshold, we consider it as anaomoly"
   ]
  },
  {
   "cell_type": "code",
   "execution_count": 3,
   "id": "1953da01",
   "metadata": {},
   "outputs": [
    {
     "name": "stdout",
     "output_type": "stream",
     "text": [
      "[4.5]\n"
     ]
    }
   ],
   "source": [
    "x=pd.Series([2.1,2.3,2.2,4.5,2.4])\n",
    "median = np.median(x)\n",
    "threshold = 2  #this is an assumption\n",
    "outliers = []\n",
    "for i in x:\n",
    "    if abs(i-median) > threshold:\n",
    "        outliers.append(i)\n",
    "print(outliers)"
   ]
  },
  {
   "cell_type": "code",
   "execution_count": 4,
   "id": "eb061528",
   "metadata": {},
   "outputs": [],
   "source": [
    "# in above we found the outlier/anamoly"
   ]
  },
  {
   "cell_type": "code",
   "execution_count": null,
   "id": "c87cd470",
   "metadata": {},
   "outputs": [],
   "source": []
  },
  {
   "cell_type": "markdown",
   "id": "cf9cc744",
   "metadata": {},
   "source": [
    "## Mean-Based Anamoly Detection"
   ]
  },
  {
   "cell_type": "code",
   "execution_count": 6,
   "id": "71514e18",
   "metadata": {},
   "outputs": [],
   "source": [
    "# condition for NOT anomoly is:\n",
    "# (mean-std) <= value <= (mean+std)\n",
    "\n",
    "# if the value is not in that range, then it is considered as an anomoly\n",
    "# std is standard deviation"
   ]
  },
  {
   "cell_type": "code",
   "execution_count": 7,
   "id": "1d16c590",
   "metadata": {},
   "outputs": [
    {
     "data": {
      "text/plain": [
       "[4.5]"
      ]
     },
     "execution_count": 7,
     "metadata": {},
     "output_type": "execute_result"
    }
   ],
   "source": [
    "mean = np.mean(x)\n",
    "std = np.std(x)\n",
    "outliers= []\n",
    "for i in x:\n",
    "    if (i < mean-std) or (i > mean+std):\n",
    "        outliers.append(i)\n",
    "outliers"
   ]
  },
  {
   "cell_type": "markdown",
   "id": "b1ec20db",
   "metadata": {},
   "source": []
  },
  {
   "cell_type": "code",
   "execution_count": null,
   "id": "47bcfb0b",
   "metadata": {},
   "outputs": [],
   "source": []
  },
  {
   "cell_type": "markdown",
   "id": "bc629968",
   "metadata": {},
   "source": [
    "## Z-score-based Anamoly Detection"
   ]
  },
  {
   "cell_type": "code",
   "execution_count": 8,
   "id": "1bad5e44",
   "metadata": {},
   "outputs": [],
   "source": [
    "# formula\n",
    "# z=(value-mean)/std\n",
    "# if z is greater than a reasonable treshold, then it is said to be a outlier"
   ]
  },
  {
   "cell_type": "code",
   "execution_count": 18,
   "id": "3a78b2a1",
   "metadata": {},
   "outputs": [
    {
     "data": {
      "text/plain": [
       "[4.5]"
      ]
     },
     "execution_count": 18,
     "metadata": {},
     "output_type": "execute_result"
    }
   ],
   "source": [
    "outliers=[]\n",
    "for i in x:\n",
    "    z = (i-mean)/std\n",
    "    if z>1.5:\n",
    "        outliers.append(i)\n",
    "outliers"
   ]
  },
  {
   "cell_type": "code",
   "execution_count": null,
   "id": "41518576",
   "metadata": {},
   "outputs": [],
   "source": []
  },
  {
   "cell_type": "markdown",
   "id": "f58c9838",
   "metadata": {},
   "source": [
    "## Interquartile Range for Anomaly Detection"
   ]
  },
  {
   "cell_type": "code",
   "execution_count": 20,
   "id": "e82db894",
   "metadata": {},
   "outputs": [],
   "source": [
    "# A quartile divides the sorted data into 3 points and 4 intervals.\n",
    "# first quartile is at 25% point of our data\n",
    "# second is at 50%\n",
    "# third is at 75%\n",
    "# Interquartile is the range between the 3rd point and 1st point\n",
    "# IRQ = Q3-Q1\n",
    "\n",
    "# any value < (Q1-1.5*IQR) or value > (Q3+1.5*IQR) is considered as anamoly"
   ]
  },
  {
   "cell_type": "code",
   "execution_count": 21,
   "id": "10a11dea",
   "metadata": {},
   "outputs": [
    {
     "data": {
      "text/plain": [
       "[4.5]"
      ]
     },
     "execution_count": 21,
     "metadata": {},
     "output_type": "execute_result"
    }
   ],
   "source": [
    "Q1,Q3 = np.percentile(x,[25,75])  # this will give the values at 25% and 75%\n",
    "IQR = Q3-Q1\n",
    "outliers=[]\n",
    "for i in x:\n",
    "    if i < (Q1 - 1.5 * IQR) or i > (Q3 + 1.5 * IQR):\n",
    "        outliers.append(i)\n",
    "outliers"
   ]
  },
  {
   "cell_type": "code",
   "execution_count": null,
   "id": "40847492",
   "metadata": {},
   "outputs": [],
   "source": []
  },
  {
   "cell_type": "code",
   "execution_count": 22,
   "id": "6c975382",
   "metadata": {},
   "outputs": [],
   "source": [
    "# In all the Anamoly Detection methods we get the same outlier\n",
    "# but this is not the case with every data, if the data is more, each method will give different outliers"
   ]
  },
  {
   "cell_type": "code",
   "execution_count": null,
   "id": "18a49388",
   "metadata": {},
   "outputs": [],
   "source": []
  },
  {
   "cell_type": "markdown",
   "id": "421d33ed",
   "metadata": {},
   "source": [
    "# Dealing with missing Values"
   ]
  },
  {
   "cell_type": "code",
   "execution_count": 23,
   "id": "d1764852",
   "metadata": {},
   "outputs": [],
   "source": [
    "# missing value is determined as NaN in pandas"
   ]
  },
  {
   "cell_type": "code",
   "execution_count": 43,
   "id": "6f59ba9e",
   "metadata": {},
   "outputs": [
    {
     "data": {
      "text/html": [
       "<div>\n",
       "<style scoped>\n",
       "    .dataframe tbody tr th:only-of-type {\n",
       "        vertical-align: middle;\n",
       "    }\n",
       "\n",
       "    .dataframe tbody tr th {\n",
       "        vertical-align: top;\n",
       "    }\n",
       "\n",
       "    .dataframe thead th {\n",
       "        text-align: right;\n",
       "    }\n",
       "</style>\n",
       "<table border=\"1\" class=\"dataframe\">\n",
       "  <thead>\n",
       "    <tr style=\"text-align: right;\">\n",
       "      <th></th>\n",
       "      <th>Name</th>\n",
       "      <th>Age</th>\n",
       "    </tr>\n",
       "  </thead>\n",
       "  <tbody>\n",
       "    <tr>\n",
       "      <th>0</th>\n",
       "      <td>Edison</td>\n",
       "      <td>92.0</td>\n",
       "    </tr>\n",
       "    <tr>\n",
       "      <th>1</th>\n",
       "      <td>Tesla</td>\n",
       "      <td>88.0</td>\n",
       "    </tr>\n",
       "    <tr>\n",
       "      <th>2</th>\n",
       "      <td>Elon</td>\n",
       "      <td>21.0</td>\n",
       "    </tr>\n",
       "    <tr>\n",
       "      <th>3</th>\n",
       "      <td>Newton</td>\n",
       "      <td>NaN</td>\n",
       "    </tr>\n",
       "  </tbody>\n",
       "</table>\n",
       "</div>"
      ],
      "text/plain": [
       "     Name   Age\n",
       "0  Edison  92.0\n",
       "1   Tesla  88.0\n",
       "2    Elon  21.0\n",
       "3  Newton   NaN"
      ]
     },
     "execution_count": 43,
     "metadata": {},
     "output_type": "execute_result"
    }
   ],
   "source": [
    "data1 = {'Name':['Edison','Tesla','Elon','Newton'],'Age':[92,88,21,None]}\n",
    "data = pd.DataFrame.from_dict(data1)\n",
    "data"
   ]
  },
  {
   "cell_type": "code",
   "execution_count": 32,
   "id": "c2f1c821",
   "metadata": {},
   "outputs": [
    {
     "data": {
      "text/html": [
       "<div>\n",
       "<style scoped>\n",
       "    .dataframe tbody tr th:only-of-type {\n",
       "        vertical-align: middle;\n",
       "    }\n",
       "\n",
       "    .dataframe tbody tr th {\n",
       "        vertical-align: top;\n",
       "    }\n",
       "\n",
       "    .dataframe thead th {\n",
       "        text-align: right;\n",
       "    }\n",
       "</style>\n",
       "<table border=\"1\" class=\"dataframe\">\n",
       "  <thead>\n",
       "    <tr style=\"text-align: right;\">\n",
       "      <th></th>\n",
       "      <th>Name</th>\n",
       "      <th>Age</th>\n",
       "    </tr>\n",
       "  </thead>\n",
       "  <tbody>\n",
       "    <tr>\n",
       "      <th>0</th>\n",
       "      <td>False</td>\n",
       "      <td>False</td>\n",
       "    </tr>\n",
       "    <tr>\n",
       "      <th>1</th>\n",
       "      <td>False</td>\n",
       "      <td>False</td>\n",
       "    </tr>\n",
       "    <tr>\n",
       "      <th>2</th>\n",
       "      <td>False</td>\n",
       "      <td>False</td>\n",
       "    </tr>\n",
       "    <tr>\n",
       "      <th>3</th>\n",
       "      <td>False</td>\n",
       "      <td>True</td>\n",
       "    </tr>\n",
       "  </tbody>\n",
       "</table>\n",
       "</div>"
      ],
      "text/plain": [
       "    Name    Age\n",
       "0  False  False\n",
       "1  False  False\n",
       "2  False  False\n",
       "3  False   True"
      ]
     },
     "execution_count": 32,
     "metadata": {},
     "output_type": "execute_result"
    }
   ],
   "source": [
    "# we get bool dataframe with true at the null value place\n",
    "data.isnull()"
   ]
  },
  {
   "cell_type": "code",
   "execution_count": 34,
   "id": "4f812c98",
   "metadata": {},
   "outputs": [
    {
     "data": {
      "text/plain": [
       "Name    0\n",
       "Age     1\n",
       "dtype: int64"
      ]
     },
     "execution_count": 34,
     "metadata": {},
     "output_type": "execute_result"
    }
   ],
   "source": [
    "# gives the sum of null values in each column\n",
    "data.isnull().sum()"
   ]
  },
  {
   "cell_type": "code",
   "execution_count": null,
   "id": "bcc82ab8",
   "metadata": {},
   "outputs": [],
   "source": []
  },
  {
   "cell_type": "code",
   "execution_count": 35,
   "id": "b2d4595b",
   "metadata": {},
   "outputs": [],
   "source": [
    "# if the null values are less, we can simple delete the row with null value\n",
    "# but if the null values are more, if we delete all null value containig rows\n",
    "# we wont get accurate results\n",
    "\n",
    "# in such cases we replace missing values with mean/median/mode"
   ]
  },
  {
   "cell_type": "code",
   "execution_count": 41,
   "id": "2d6ed629",
   "metadata": {},
   "outputs": [
    {
     "data": {
      "text/html": [
       "<div>\n",
       "<style scoped>\n",
       "    .dataframe tbody tr th:only-of-type {\n",
       "        vertical-align: middle;\n",
       "    }\n",
       "\n",
       "    .dataframe tbody tr th {\n",
       "        vertical-align: top;\n",
       "    }\n",
       "\n",
       "    .dataframe thead th {\n",
       "        text-align: right;\n",
       "    }\n",
       "</style>\n",
       "<table border=\"1\" class=\"dataframe\">\n",
       "  <thead>\n",
       "    <tr style=\"text-align: right;\">\n",
       "      <th></th>\n",
       "      <th>Name</th>\n",
       "      <th>Age</th>\n",
       "    </tr>\n",
       "  </thead>\n",
       "  <tbody>\n",
       "    <tr>\n",
       "      <th>0</th>\n",
       "      <td>Edison</td>\n",
       "      <td>92.0</td>\n",
       "    </tr>\n",
       "    <tr>\n",
       "      <th>1</th>\n",
       "      <td>Tesla</td>\n",
       "      <td>88.0</td>\n",
       "    </tr>\n",
       "    <tr>\n",
       "      <th>2</th>\n",
       "      <td>Elon</td>\n",
       "      <td>21.0</td>\n",
       "    </tr>\n",
       "  </tbody>\n",
       "</table>\n",
       "</div>"
      ],
      "text/plain": [
       "     Name   Age\n",
       "0  Edison  92.0\n",
       "1   Tesla  88.0\n",
       "2    Elon  21.0"
      ]
     },
     "execution_count": 41,
     "metadata": {},
     "output_type": "execute_result"
    }
   ],
   "source": [
    "# deleting row with missing function\n",
    "data1 = data\n",
    "data.dropna(inplace = True)\n",
    "data"
   ]
  },
  {
   "cell_type": "code",
   "execution_count": 60,
   "id": "15048058",
   "metadata": {},
   "outputs": [
    {
     "data": {
      "text/html": [
       "<div>\n",
       "<style scoped>\n",
       "    .dataframe tbody tr th:only-of-type {\n",
       "        vertical-align: middle;\n",
       "    }\n",
       "\n",
       "    .dataframe tbody tr th {\n",
       "        vertical-align: top;\n",
       "    }\n",
       "\n",
       "    .dataframe thead th {\n",
       "        text-align: right;\n",
       "    }\n",
       "</style>\n",
       "<table border=\"1\" class=\"dataframe\">\n",
       "  <thead>\n",
       "    <tr style=\"text-align: right;\">\n",
       "      <th></th>\n",
       "      <th>Name</th>\n",
       "      <th>Age</th>\n",
       "    </tr>\n",
       "  </thead>\n",
       "  <tbody>\n",
       "    <tr>\n",
       "      <th>0</th>\n",
       "      <td>Edison</td>\n",
       "      <td>92.0</td>\n",
       "    </tr>\n",
       "    <tr>\n",
       "      <th>1</th>\n",
       "      <td>Tesla</td>\n",
       "      <td>88.0</td>\n",
       "    </tr>\n",
       "    <tr>\n",
       "      <th>2</th>\n",
       "      <td>Elon</td>\n",
       "      <td>21.0</td>\n",
       "    </tr>\n",
       "    <tr>\n",
       "      <th>3</th>\n",
       "      <td>Newton</td>\n",
       "      <td>NaN</td>\n",
       "    </tr>\n",
       "  </tbody>\n",
       "</table>\n",
       "</div>"
      ],
      "text/plain": [
       "     Name   Age\n",
       "0  Edison  92.0\n",
       "1   Tesla  88.0\n",
       "2    Elon  21.0\n",
       "3  Newton   NaN"
      ]
     },
     "execution_count": 60,
     "metadata": {},
     "output_type": "execute_result"
    }
   ],
   "source": [
    "data1 = {'Name':['Edison','Tesla','Elon','Newton'],'Age':[92,88,21,None]}\n",
    "data = pd.DataFrame.from_dict(data1)\n",
    "data1 = data\n",
    "data"
   ]
  },
  {
   "cell_type": "code",
   "execution_count": 62,
   "id": "66f50e1d",
   "metadata": {},
   "outputs": [
    {
     "data": {
      "text/html": [
       "<div>\n",
       "<style scoped>\n",
       "    .dataframe tbody tr th:only-of-type {\n",
       "        vertical-align: middle;\n",
       "    }\n",
       "\n",
       "    .dataframe tbody tr th {\n",
       "        vertical-align: top;\n",
       "    }\n",
       "\n",
       "    .dataframe thead th {\n",
       "        text-align: right;\n",
       "    }\n",
       "</style>\n",
       "<table border=\"1\" class=\"dataframe\">\n",
       "  <thead>\n",
       "    <tr style=\"text-align: right;\">\n",
       "      <th></th>\n",
       "      <th>Name</th>\n",
       "      <th>Age</th>\n",
       "    </tr>\n",
       "  </thead>\n",
       "  <tbody>\n",
       "    <tr>\n",
       "      <th>0</th>\n",
       "      <td>Edison</td>\n",
       "      <td>92.0</td>\n",
       "    </tr>\n",
       "    <tr>\n",
       "      <th>1</th>\n",
       "      <td>Tesla</td>\n",
       "      <td>88.0</td>\n",
       "    </tr>\n",
       "    <tr>\n",
       "      <th>2</th>\n",
       "      <td>Elon</td>\n",
       "      <td>21.0</td>\n",
       "    </tr>\n",
       "    <tr>\n",
       "      <th>3</th>\n",
       "      <td>Newton</td>\n",
       "      <td>67.0</td>\n",
       "    </tr>\n",
       "  </tbody>\n",
       "</table>\n",
       "</div>"
      ],
      "text/plain": [
       "     Name   Age\n",
       "0  Edison  92.0\n",
       "1   Tesla  88.0\n",
       "2    Elon  21.0\n",
       "3  Newton  67.0"
      ]
     },
     "execution_count": 62,
     "metadata": {},
     "output_type": "execute_result"
    }
   ],
   "source": [
    "# here we can see the null value is filled with mean\n",
    "data['Age'].fillna(data['Age'].mean(),inplace=True)\n",
    "data"
   ]
  },
  {
   "cell_type": "code",
   "execution_count": null,
   "id": "a71d58df",
   "metadata": {},
   "outputs": [],
   "source": []
  },
  {
   "cell_type": "markdown",
   "id": "c8dc5994",
   "metadata": {},
   "source": [
    "# Regular Expression"
   ]
  },
  {
   "cell_type": "code",
   "execution_count": 63,
   "id": "b5d4861a",
   "metadata": {},
   "outputs": [],
   "source": [
    "# these are used to match patterns in a string\n",
    "# re module is used for regular expression"
   ]
  },
  {
   "cell_type": "code",
   "execution_count": 64,
   "id": "a7313b29",
   "metadata": {},
   "outputs": [],
   "source": [
    "import re"
   ]
  },
  {
   "cell_type": "code",
   "execution_count": 68,
   "id": "0e748ad2",
   "metadata": {},
   "outputs": [
    {
     "name": "stdout",
     "output_type": "stream",
     "text": [
      "['Python', 'Python']\n",
      "2\n"
     ]
    }
   ],
   "source": [
    "txt = 'Python is my fav programming language. I love Python'\n",
    "x = re.findall('Python',txt)   #here we get a list of all occurances\n",
    "print(x)\n",
    "print(len(x))"
   ]
  },
  {
   "cell_type": "code",
   "execution_count": 70,
   "id": "f001e72b",
   "metadata": {},
   "outputs": [
    {
     "data": {
      "text/plain": [
       "['Python']"
      ]
     },
     "execution_count": 70,
     "metadata": {},
     "output_type": "execute_result"
    }
   ],
   "source": [
    "# ^ used to check wether a string starts with given pattern\n",
    "\n",
    "re.findall('^Python',txt)"
   ]
  },
  {
   "cell_type": "code",
   "execution_count": 73,
   "id": "b39f10f8",
   "metadata": {},
   "outputs": [
    {
     "data": {
      "text/plain": [
       "[]"
      ]
     },
     "execution_count": 73,
     "metadata": {},
     "output_type": "execute_result"
    }
   ],
   "source": [
    "y = 'I am Jack'\n",
    "re.findall('^python',y)  #not matched so empty list"
   ]
  },
  {
   "cell_type": "code",
   "execution_count": 76,
   "id": "1c75ba4f",
   "metadata": {},
   "outputs": [
    {
     "data": {
      "text/plain": [
       "['1', '9', '9', '1', '2', '0', '2', '2']"
      ]
     },
     "execution_count": 76,
     "metadata": {},
     "output_type": "execute_result"
    }
   ],
   "source": [
    "# '\\d' is used to find numbers\n",
    "txt = 'Python was released in 1991, now it is 2022'\n",
    "re.findall('\\d',txt)   #gives all nums in a list"
   ]
  },
  {
   "cell_type": "code",
   "execution_count": 78,
   "id": "65ed3478",
   "metadata": {},
   "outputs": [
    {
     "data": {
      "text/plain": [
       "['1991', '2022']"
      ]
     },
     "execution_count": 78,
     "metadata": {},
     "output_type": "execute_result"
    }
   ],
   "source": [
    "re.findall('\\d+',txt)   #gives continuous nums as a num"
   ]
  },
  {
   "cell_type": "code",
   "execution_count": 79,
   "id": "f0b0d980",
   "metadata": {},
   "outputs": [],
   "source": [
    "# re will only work on strings\n",
    "# if we want to work on Series then we should use to_string to convert Series object into String"
   ]
  },
  {
   "cell_type": "code",
   "execution_count": 82,
   "id": "1c202db5",
   "metadata": {},
   "outputs": [
    {
     "data": {
      "text/plain": [
       "<re.Match object; span=(0, 5), match='Hello'>"
      ]
     },
     "execution_count": 82,
     "metadata": {},
     "output_type": "execute_result"
    }
   ],
   "source": [
    "txt = 'Hello World'\n",
    "match_obj = re.search('Hello',txt)  #searches the existence\n",
    "match_obj"
   ]
  },
  {
   "cell_type": "code",
   "execution_count": 84,
   "id": "3d28a25c",
   "metadata": {},
   "outputs": [
    {
     "data": {
      "text/plain": [
       "(0, 5)"
      ]
     },
     "execution_count": 84,
     "metadata": {},
     "output_type": "execute_result"
    }
   ],
   "source": [
    "match_obj.span()   #gives the location of string in the whole string"
   ]
  },
  {
   "cell_type": "code",
   "execution_count": 91,
   "id": "fa51196d",
   "metadata": {},
   "outputs": [
    {
     "data": {
      "text/plain": [
       "'Hello Gibbs'"
      ]
     },
     "execution_count": 91,
     "metadata": {},
     "output_type": "execute_result"
    }
   ],
   "source": [
    "# for replacing\n",
    "a = re.sub(pattern='World',repl='Gibbs',string=txt)\n",
    "a"
   ]
  },
  {
   "cell_type": "code",
   "execution_count": null,
   "id": "4481c6a5",
   "metadata": {},
   "outputs": [],
   "source": []
  },
  {
   "cell_type": "markdown",
   "id": "f186f3d9",
   "metadata": {},
   "source": [
    "# Feature Scaling"
   ]
  },
  {
   "cell_type": "code",
   "execution_count": 93,
   "id": "29fc6dc6",
   "metadata": {},
   "outputs": [],
   "source": [
    "# all column in data might not be in same range like(1-100)\n",
    "# some times we want all columns in same range, it can be achieved by feature scaling"
   ]
  },
  {
   "cell_type": "code",
   "execution_count": 106,
   "id": "1f796af6",
   "metadata": {},
   "outputs": [
    {
     "data": {
      "text/html": [
       "<div>\n",
       "<style scoped>\n",
       "    .dataframe tbody tr th:only-of-type {\n",
       "        vertical-align: middle;\n",
       "    }\n",
       "\n",
       "    .dataframe tbody tr th {\n",
       "        vertical-align: top;\n",
       "    }\n",
       "\n",
       "    .dataframe thead th {\n",
       "        text-align: right;\n",
       "    }\n",
       "</style>\n",
       "<table border=\"1\" class=\"dataframe\">\n",
       "  <thead>\n",
       "    <tr style=\"text-align: right;\">\n",
       "      <th></th>\n",
       "      <th>Age</th>\n",
       "      <th>Salary</th>\n",
       "    </tr>\n",
       "  </thead>\n",
       "  <tbody>\n",
       "    <tr>\n",
       "      <th>0</th>\n",
       "      <td>26</td>\n",
       "      <td>10000</td>\n",
       "    </tr>\n",
       "    <tr>\n",
       "      <th>1</th>\n",
       "      <td>25</td>\n",
       "      <td>13000</td>\n",
       "    </tr>\n",
       "    <tr>\n",
       "      <th>2</th>\n",
       "      <td>35</td>\n",
       "      <td>22000</td>\n",
       "    </tr>\n",
       "    <tr>\n",
       "      <th>3</th>\n",
       "      <td>42</td>\n",
       "      <td>31000</td>\n",
       "    </tr>\n",
       "    <tr>\n",
       "      <th>4</th>\n",
       "      <td>96</td>\n",
       "      <td>41000</td>\n",
       "    </tr>\n",
       "    <tr>\n",
       "      <th>5</th>\n",
       "      <td>78</td>\n",
       "      <td>14000</td>\n",
       "    </tr>\n",
       "  </tbody>\n",
       "</table>\n",
       "</div>"
      ],
      "text/plain": [
       "   Age  Salary\n",
       "0   26   10000\n",
       "1   25   13000\n",
       "2   35   22000\n",
       "3   42   31000\n",
       "4   96   41000\n",
       "5   78   14000"
      ]
     },
     "execution_count": 106,
     "metadata": {},
     "output_type": "execute_result"
    }
   ],
   "source": [
    "data = pd.DataFrame.from_dict({'Age' : [26,25,35,42,96,78],'Salary':[10000,13000,22000,31000,41000,14000]})\n",
    "data"
   ]
  },
  {
   "cell_type": "code",
   "execution_count": 111,
   "id": "6512b4b1",
   "metadata": {},
   "outputs": [
    {
     "data": {
      "text/html": [
       "<div>\n",
       "<style scoped>\n",
       "    .dataframe tbody tr th:only-of-type {\n",
       "        vertical-align: middle;\n",
       "    }\n",
       "\n",
       "    .dataframe tbody tr th {\n",
       "        vertical-align: top;\n",
       "    }\n",
       "\n",
       "    .dataframe thead th {\n",
       "        text-align: right;\n",
       "    }\n",
       "</style>\n",
       "<table border=\"1\" class=\"dataframe\">\n",
       "  <thead>\n",
       "    <tr style=\"text-align: right;\">\n",
       "      <th></th>\n",
       "      <th>Age</th>\n",
       "      <th>Salary</th>\n",
       "    </tr>\n",
       "  </thead>\n",
       "  <tbody>\n",
       "    <tr>\n",
       "      <th>0</th>\n",
       "      <td>0.014085</td>\n",
       "      <td>0.000000</td>\n",
       "    </tr>\n",
       "    <tr>\n",
       "      <th>1</th>\n",
       "      <td>0.000000</td>\n",
       "      <td>0.096774</td>\n",
       "    </tr>\n",
       "    <tr>\n",
       "      <th>2</th>\n",
       "      <td>0.140845</td>\n",
       "      <td>0.387097</td>\n",
       "    </tr>\n",
       "    <tr>\n",
       "      <th>3</th>\n",
       "      <td>0.239437</td>\n",
       "      <td>0.677419</td>\n",
       "    </tr>\n",
       "    <tr>\n",
       "      <th>4</th>\n",
       "      <td>1.000000</td>\n",
       "      <td>1.000000</td>\n",
       "    </tr>\n",
       "    <tr>\n",
       "      <th>5</th>\n",
       "      <td>0.746479</td>\n",
       "      <td>0.129032</td>\n",
       "    </tr>\n",
       "  </tbody>\n",
       "</table>\n",
       "</div>"
      ],
      "text/plain": [
       "        Age    Salary\n",
       "0  0.014085  0.000000\n",
       "1  0.000000  0.096774\n",
       "2  0.140845  0.387097\n",
       "3  0.239437  0.677419\n",
       "4  1.000000  1.000000\n",
       "5  0.746479  0.129032"
      ]
     },
     "execution_count": 111,
     "metadata": {},
     "output_type": "execute_result"
    }
   ],
   "source": [
    "# min-max Scaling or Normalization\n",
    "\n",
    "data = (data - data.min()) / (data.max() - data.min())\n",
    "data"
   ]
  },
  {
   "cell_type": "code",
   "execution_count": 112,
   "id": "58693640",
   "metadata": {},
   "outputs": [
    {
     "data": {
      "text/html": [
       "<div>\n",
       "<style scoped>\n",
       "    .dataframe tbody tr th:only-of-type {\n",
       "        vertical-align: middle;\n",
       "    }\n",
       "\n",
       "    .dataframe tbody tr th {\n",
       "        vertical-align: top;\n",
       "    }\n",
       "\n",
       "    .dataframe thead th {\n",
       "        text-align: right;\n",
       "    }\n",
       "</style>\n",
       "<table border=\"1\" class=\"dataframe\">\n",
       "  <thead>\n",
       "    <tr style=\"text-align: right;\">\n",
       "      <th></th>\n",
       "      <th>Age</th>\n",
       "      <th>Salary</th>\n",
       "    </tr>\n",
       "  </thead>\n",
       "  <tbody>\n",
       "    <tr>\n",
       "      <th>0</th>\n",
       "      <td>-0.821273</td>\n",
       "      <td>-0.978775</td>\n",
       "    </tr>\n",
       "    <tr>\n",
       "      <th>1</th>\n",
       "      <td>-0.855024</td>\n",
       "      <td>-0.730635</td>\n",
       "    </tr>\n",
       "    <tr>\n",
       "      <th>2</th>\n",
       "      <td>-0.517514</td>\n",
       "      <td>0.013786</td>\n",
       "    </tr>\n",
       "    <tr>\n",
       "      <th>3</th>\n",
       "      <td>-0.281258</td>\n",
       "      <td>0.758206</td>\n",
       "    </tr>\n",
       "    <tr>\n",
       "      <th>4</th>\n",
       "      <td>1.541292</td>\n",
       "      <td>1.585340</td>\n",
       "    </tr>\n",
       "    <tr>\n",
       "      <th>5</th>\n",
       "      <td>0.933776</td>\n",
       "      <td>-0.647922</td>\n",
       "    </tr>\n",
       "  </tbody>\n",
       "</table>\n",
       "</div>"
      ],
      "text/plain": [
       "        Age    Salary\n",
       "0 -0.821273 -0.978775\n",
       "1 -0.855024 -0.730635\n",
       "2 -0.517514  0.013786\n",
       "3 -0.281258  0.758206\n",
       "4  1.541292  1.585340\n",
       "5  0.933776 -0.647922"
      ]
     },
     "execution_count": 112,
     "metadata": {},
     "output_type": "execute_result"
    }
   ],
   "source": [
    "# standardization\n",
    "\n",
    "data = (data-data.mean()) / data.std()\n",
    "data"
   ]
  },
  {
   "cell_type": "code",
   "execution_count": 113,
   "id": "1e5c41a7",
   "metadata": {},
   "outputs": [
    {
     "data": {
      "text/plain": [
       "Age       1.0\n",
       "Salary    1.0\n",
       "dtype: float64"
      ]
     },
     "execution_count": 113,
     "metadata": {},
     "output_type": "execute_result"
    }
   ],
   "source": [
    "data.std()   #used to check wether they are in same range, all 1 means same"
   ]
  },
  {
   "cell_type": "code",
   "execution_count": null,
   "id": "5edc3f7e",
   "metadata": {},
   "outputs": [],
   "source": []
  },
  {
   "cell_type": "code",
   "execution_count": null,
   "id": "32bf819e",
   "metadata": {},
   "outputs": [],
   "source": []
  }
 ],
 "metadata": {
  "kernelspec": {
   "display_name": "Python 3 (ipykernel)",
   "language": "python",
   "name": "python3"
  },
  "language_info": {
   "codemirror_mode": {
    "name": "ipython",
    "version": 3
   },
   "file_extension": ".py",
   "mimetype": "text/x-python",
   "name": "python",
   "nbconvert_exporter": "python",
   "pygments_lexer": "ipython3",
   "version": "3.9.13"
  }
 },
 "nbformat": 4,
 "nbformat_minor": 5
}
